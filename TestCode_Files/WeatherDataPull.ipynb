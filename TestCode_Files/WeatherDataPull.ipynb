{
 "cells": [
  {
   "cell_type": "code",
   "execution_count": 1,
   "metadata": {},
   "outputs": [],
   "source": [
    "# Dependencies\n",
    "import pandas as pd\n",
    "import requests\n",
    "import json\n",
    "from pprint import pprint\n",
    "from config import MeteoStat_api_key as MeteoKey\n",
    "import matplotlib.pyplot as plt\n",
    "import numpy as np\n",
    "import time\n",
    "from scipy.stats import linregress\n",
    "import datetime"
   ]
  },
  {
   "cell_type": "code",
   "execution_count": 2,
   "metadata": {},
   "outputs": [
    {
     "name": "stdout",
     "output_type": "stream",
     "text": [
      "{'data': [{'country': 'US',\n",
      "           'id': '72785',\n",
      "           'name': 'Spokane International Airport'},\n",
      "          {'country': 'US', 'id': 'KSFF0', 'name': 'Spokane / Yardley'},\n",
      "          {'country': 'US',\n",
      "           'id': 'KSKA0',\n",
      "           'name': 'Spokane / Fairchild Air Force Base'}],\n",
      " 'meta': {'source': 'National Oceanic and Atmospheric Administration, '\n",
      "                    'Deutscher Wetterdienst'}}\n"
     ]
    }
   ],
   "source": [
    "#Find stations based on city name using meteostat api\n",
    "city_url = \"https://api.meteostat.net/v1/stations/search?q=spokane\"\n",
    "city_station = requests.get(f\"{city_url}&key={MeteoKey}\").json()\n",
    "#city_station = requests.get(city_url).json()\n",
    "pprint(city_station)"
   ]
  },
  {
   "cell_type": "code",
   "execution_count": 3,
   "metadata": {},
   "outputs": [],
   "source": [
    "#Station IDs\n",
    "Boston_station = \"72509\"\n",
    "Miami_station = \"72202\"\n",
    "Columbus_station = \"72428\"\n",
    "Nashville_station = \"72327\"\n",
    "DesMoines_station = \"72546\"\n",
    "Atlanta_station = \"72219\"\n",
    "Phoenix_station = \"72278\"\n",
    "SaltLakeCity_station = \"72572\"\n",
    "Spokane_station = \"72785\"\n",
    "#Vancouver_station = \"71892\"\n",
    "SF_station = \"72494\"\n",
    "SanDiego_station = \"72290\"\n",
    "StPaulIsland_station = \"70308\"\n",
    "\n",
    "#Parameters for pull\n",
    "start_a = \"1951-01\"\n",
    "start_b = \"1981-09\"\n",
    "start_c = \"2011-09\"\n",
    "end = \"2017-12\""
   ]
  },
  {
   "cell_type": "code",
   "execution_count": 4,
   "metadata": {},
   "outputs": [],
   "source": [
    "#Research meteostats api documentation for data pull\n",
    "#url = https://api.meteostat.net/{VERSION}/{PACKAGE}/{METHOD}?{PARAMETERS}\n",
    "#url = \"https://api.meteostat.net/v1/\"   #{PACKAGE}/{METHOD}?{PARAMETERS}\n",
    "#https://api.meteostat.net/v1/history/daily?station=10637&start=2017-01-01&end=2017-12-31&key=XXXXXXXX"
   ]
  },
  {
   "cell_type": "code",
   "execution_count": 5,
   "metadata": {},
   "outputs": [],
   "source": [
    "#Get Boston Weather Data from 1951 - 2017\n",
    "Boston_weather_url = \"https://api.meteostat.net/v1/history/monthly?\"\n",
    "Boston_weather_data_a = requests.get(f\"{Boston_weather_url}station={Boston_station}&start={start_a}&end={end}&key={MeteoKey}\").json()\n",
    "Boston_weather_data_b = requests.get(f\"{Boston_weather_url}station={Boston_station}&start={start_b}&end={end}&key={MeteoKey}\").json()\n",
    "Boston_weather_data_c = requests.get(f\"{Boston_weather_url}station={Boston_station}&start={start_c}&end={end}&key={MeteoKey}\").json()\n",
    "\n",
    "#Look at the data\n",
    "#pprint(Boston_weather_data_c)"
   ]
  },
  {
   "cell_type": "code",
   "execution_count": 6,
   "metadata": {},
   "outputs": [],
   "source": [
    "#Put data into a pandas DataFrame\n"
   ]
  },
  {
   "cell_type": "code",
   "execution_count": 7,
   "metadata": {},
   "outputs": [],
   "source": [
    "#Get Miami Weather Data from 1951 - 2017\n",
    "Miami_weather_url = \"https://api.meteostat.net/v1/history/monthly?\"\n",
    "Miami_weather_data_a = requests.get(f\"{Miami_weather_url}station={Miami_station}&start={start_a}&end={end}&key={MeteoKey}\").json()\n",
    "Miami_weather_data_b = requests.get(f\"{Miami_weather_url}station={Miami_station}&start={start_b}&end={end}&key={MeteoKey}\").json()\n",
    "Miami_weather_data_c = requests.get(f\"{Miami_weather_url}station={Miami_station}&start={start_c}&end={end}&key={MeteoKey}\").json()\n",
    "\n",
    "#Look at the data\n",
    "#pprint(Miami_weather_data_c)"
   ]
  },
  {
   "cell_type": "code",
   "execution_count": 8,
   "metadata": {},
   "outputs": [],
   "source": [
    "#Put data into a pandas DataFrame\n"
   ]
  },
  {
   "cell_type": "code",
   "execution_count": 9,
   "metadata": {},
   "outputs": [],
   "source": [
    "#Get Columbus (NO CLEVELAND DATA?!?) Weather Data from 1951 - 2017\n",
    "Columbus_weather_url = \"https://api.meteostat.net/v1/history/monthly?\"\n",
    "Columbus_weather_data_a = requests.get(f\"{Columbus_weather_url}station={Columbus_station}&start={start_a}&end={end}&key={MeteoKey}\").json()\n",
    "Columbus_weather_data_b = requests.get(f\"{Columbus_weather_url}station={Columbus_station}&start={start_b}&end={end}&key={MeteoKey}\").json()\n",
    "Columbus_weather_data_c = requests.get(f\"{Columbus_weather_url}station={Columbus_station}&start={start_c}&end={end}&key={MeteoKey}\").json()\n",
    "\n",
    "#Look at the data\n",
    "#pprint(Columbus_weather_data_c)"
   ]
  },
  {
   "cell_type": "code",
   "execution_count": 10,
   "metadata": {},
   "outputs": [],
   "source": [
    "#Put data into a pandas DataFrame\n"
   ]
  },
  {
   "cell_type": "code",
   "execution_count": 11,
   "metadata": {},
   "outputs": [],
   "source": [
    "#Get Nashville Weather Data from 1951 - 2017\n",
    "Nashville_weather_url = \"https://api.meteostat.net/v1/history/monthly?\"\n",
    "Nashville_weather_data_a = requests.get(f\"{Nashville_weather_url}station={Nashville_station}&start={start_a}&end={end}&key={MeteoKey}\").json()\n",
    "Nashville_weather_data_b = requests.get(f\"{Nashville_weather_url}station={Nashville_station}&start={start_b}&end={end}&key={MeteoKey}\").json()\n",
    "Nashville_weather_data_c = requests.get(f\"{Nashville_weather_url}station={Nashville_station}&start={start_c}&end={end}&key={MeteoKey}\").json()\n",
    "\n",
    "#Look at the data\n",
    "#pprint(Nashville_weather_data_c)"
   ]
  },
  {
   "cell_type": "code",
   "execution_count": 12,
   "metadata": {},
   "outputs": [],
   "source": [
    "#Put data into a pandas DataFrame\n"
   ]
  },
  {
   "cell_type": "code",
   "execution_count": 13,
   "metadata": {},
   "outputs": [],
   "source": [
    "#Get Des Moines Weather Data from 1951 - 2017\n",
    "DesMoines_weather_url = \"https://api.meteostat.net/v1/history/monthly?\"\n",
    "DesMoines_weather_data_a = requests.get(f\"{DesMoines_weather_url}station={DesMoines_station}&start={start_a}&end={end}&key={MeteoKey}\").json()\n",
    "DesMoines_weather_data_b = requests.get(f\"{DesMoines_weather_url}station={DesMoines_station}&start={start_b}&end={end}&key={MeteoKey}\").json()\n",
    "DesMoines_weather_data_c = requests.get(f\"{DesMoines_weather_url}station={DesMoines_station}&start={start_c}&end={end}&key={MeteoKey}\").json()\n",
    "\n",
    "#Look at the data\n",
    "#pprint(DesMoines_weather_data_c)"
   ]
  },
  {
   "cell_type": "code",
   "execution_count": 14,
   "metadata": {},
   "outputs": [],
   "source": [
    "#Put data into a pandas DataFrame\n"
   ]
  },
  {
   "cell_type": "code",
   "execution_count": 30,
   "metadata": {},
   "outputs": [],
   "source": [
    "#Get Atlanta Weather Data from 1951 - 2017\n",
    "Atlanta_weather_url = \"https://api.meteostat.net/v1/history/monthly?\"\n",
    "Atlanta_weather_data_a = requests.get(f\"{Atlanta_weather_url}station={Atlanta_station}&start={start_a}&end={end}&key={MeteoKey}\").json()\n",
    "Atlanta_weather_data_b = requests.get(f\"{Atlanta_weather_url}station={Atlanta_station}&start={start_b}&end={end}&key={MeteoKey}\").json()\n",
    "Atlanta_weather_data_c = requests.get(f\"{Atlanta_weather_url}station={Atlanta_station}&start={start_c}&end={end}&key={MeteoKey}\").json()\n",
    "\n",
    "#Look at the data\n",
    "#pprint(Atlanta_weather_data_a)"
   ]
  },
  {
   "cell_type": "code",
   "execution_count": 16,
   "metadata": {},
   "outputs": [],
   "source": [
    "#Put data into a pandas DataFrame\n"
   ]
  },
  {
   "cell_type": "code",
   "execution_count": 17,
   "metadata": {},
   "outputs": [],
   "source": [
    "#Get San Francisco Weather Data from 1951 - 2017\n",
    "SF_weather_url = \"https://api.meteostat.net/v1/history/monthly?\"\n",
    "SF_weather_data_a = requests.get(f\"{SF_weather_url}station={SF_station}&start={start_a}&end={end}&key={MeteoKey}\").json()\n",
    "SF_weather_data_b = requests.get(f\"{SF_weather_url}station={SF_station}&start={start_b}&end={end}&key={MeteoKey}\").json()\n",
    "SF_weather_data_c = requests.get(f\"{SF_weather_url}station={SF_station}&start={start_c}&end={end}&key={MeteoKey}\").json()\n",
    "\n",
    "#Look at the data\n",
    "#pprint(SF_weather_data_c)"
   ]
  },
  {
   "cell_type": "code",
   "execution_count": 18,
   "metadata": {},
   "outputs": [],
   "source": [
    "#Put data into a pandas DataFrame\n"
   ]
  },
  {
   "cell_type": "code",
   "execution_count": 19,
   "metadata": {},
   "outputs": [],
   "source": [
    "#Get San Diego Weather Data from 1951 - 2017\n",
    "SanDiego_weather_url = \"https://api.meteostat.net/v1/history/monthly?\"\n",
    "SanDiego_weather_data_a = requests.get(f\"{SanDiego_weather_url}station={SanDiego_station}&start={start_a}&end={end}&key={MeteoKey}\").json()\n",
    "SanDiego_weather_data_b = requests.get(f\"{SanDiego_weather_url}station={SanDiego_station}&start={start_b}&end={end}&key={MeteoKey}\").json()\n",
    "SanDiego_weather_data_c = requests.get(f\"{SanDiego_weather_url}station={SanDiego_station}&start={start_c}&end={end}&key={MeteoKey}\").json()\n",
    "\n",
    "#Look at the data\n",
    "#pprint(SanDiego_weather_data_c)"
   ]
  },
  {
   "cell_type": "code",
   "execution_count": 20,
   "metadata": {},
   "outputs": [],
   "source": [
    "#Put data into a pandas DataFrame\n"
   ]
  },
  {
   "cell_type": "code",
   "execution_count": 21,
   "metadata": {},
   "outputs": [],
   "source": [
    "#Get St. Paul Island (Alaska) Weather Data from 1951 - 2017\n",
    "StPaulIsland_weather_url = \"https://api.meteostat.net/v1/history/monthly?\"\n",
    "StPaulIsland_weather_data_a = requests.get(f\"{StPaulIsland_weather_url}station={StPaulIsland_station}&start={start_a}&end={end}&key={MeteoKey}\").json()\n",
    "StPaulIsland_weather_data_b = requests.get(f\"{StPaulIsland_weather_url}station={StPaulIsland_station}&start={start_b}&end={end}&key={MeteoKey}\").json()\n",
    "StPaulIsland_weather_data_c = requests.get(f\"{StPaulIsland_weather_url}station={StPaulIsland_station}&start={start_c}&end={end}&key={MeteoKey}\").json()\n",
    "\n",
    "#Look at the data\n",
    "#pprint(StPaulIsland_weather_data_c)"
   ]
  },
  {
   "cell_type": "code",
   "execution_count": 22,
   "metadata": {},
   "outputs": [],
   "source": [
    "#Put data into a pandas DataFrame\n"
   ]
  },
  {
   "cell_type": "code",
   "execution_count": 23,
   "metadata": {},
   "outputs": [],
   "source": [
    "#Get Phoenix Weather Data from 1951 - 2017\n",
    "Phoenix_weather_url = \"https://api.meteostat.net/v1/history/monthly?\"\n",
    "Phoenix_weather_data_a = requests.get(f\"{Phoenix_weather_url}station={Phoenix_station}&start={start_a}&end={end}&key={MeteoKey}\").json()\n",
    "Phoenix_weather_data_b = requests.get(f\"{Phoenix_weather_url}station={Phoenix_station}&start={start_b}&end={end}&key={MeteoKey}\").json()\n",
    "Phoenix_weather_data_c = requests.get(f\"{Phoenix_weather_url}station={Phoenix_station}&start={start_c}&end={end}&key={MeteoKey}\").json()\n",
    "\n",
    "#Look at the data\n",
    "#pprint(Phoenix_weather_data_c)"
   ]
  },
  {
   "cell_type": "code",
   "execution_count": 24,
   "metadata": {},
   "outputs": [],
   "source": [
    "#Put data into a pandas DataFrame\n"
   ]
  },
  {
   "cell_type": "code",
   "execution_count": 25,
   "metadata": {},
   "outputs": [],
   "source": [
    "#Get Salt Lake City Weather Data from 1951 - 2017\n",
    "SaltLakeCity_weather_url = \"https://api.meteostat.net/v1/history/monthly?\"\n",
    "SaltLakeCity_weather_data_a = requests.get(f\"{SaltLakeCity_weather_url}station={SaltLakeCity_station}&start={start_a}&end={end}&key={MeteoKey}\").json()\n",
    "SaltLakeCity_weather_data_b = requests.get(f\"{SaltLakeCity_weather_url}station={SaltLakeCity_station}&start={start_b}&end={end}&key={MeteoKey}\").json()\n",
    "SaltLakeCity_weather_data_c = requests.get(f\"{SaltLakeCity_weather_url}station={SaltLakeCity_station}&start={start_c}&end={end}&key={MeteoKey}\").json()\n",
    "\n",
    "#Look at the data\n",
    "#pprint(SaltLakeCity_weather_data_c)"
   ]
  },
  {
   "cell_type": "code",
   "execution_count": 26,
   "metadata": {},
   "outputs": [],
   "source": [
    "#Put data into a pandas DataFrame\n"
   ]
  },
  {
   "cell_type": "code",
   "execution_count": 31,
   "metadata": {},
   "outputs": [],
   "source": [
    "#Get Spokane Weather Data from 1951 - 2017\n",
    "Spokane_weather_url = \"https://api.meteostat.net/v1/history/monthly?\"\n",
    "Spokane_weather_data_a = requests.get(f\"{Spokane_weather_url}station={Spokane_station}&start={start_a}&end={end}&key={MeteoKey}\").json()\n",
    "Spokane_weather_data_b = requests.get(f\"{Spokane_weather_url}station={Spokane_station}&start={start_b}&end={end}&key={MeteoKey}\").json()\n",
    "Spokane_weather_data_c = requests.get(f\"{Spokane_weather_url}station={Spokane_station}&start={start_c}&end={end}&key={MeteoKey}\").json()\n",
    "#Look at the data\n",
    "#pprint(Spokane_weather_data_c)"
   ]
  },
  {
   "cell_type": "code",
   "execution_count": 28,
   "metadata": {},
   "outputs": [],
   "source": [
    "#Put data into a pandas DataFrame\n"
   ]
  },
  {
   "cell_type": "code",
   "execution_count": null,
   "metadata": {},
   "outputs": [],
   "source": []
  },
  {
   "cell_type": "code",
   "execution_count": null,
   "metadata": {},
   "outputs": [],
   "source": []
  },
  {
   "cell_type": "code",
   "execution_count": 2,
   "metadata": {},
   "outputs": [],
   "source": [
    "#####################################\n",
    "# ALL CODE BELOW HERE FOR LATER!!!! #\n",
    "#####################################"
   ]
  },
  {
   "cell_type": "code",
   "execution_count": null,
   "metadata": {},
   "outputs": [],
   "source": [
    "# Output File (CSV)\n",
    "#delta_temp_data_file = \"PyWeatherman/Mock_DeltaTemp.csv\"\n",
    "\n",
    "deltaTemp_df = pd.read_csv(\"WeatherData-Annual-Delta-FINAL.csv\")\n",
    "deltaTemp_df.head()"
   ]
  },
  {
   "cell_type": "code",
   "execution_count": null,
   "metadata": {},
   "outputs": [],
   "source": [
    "x_values = deltaTemp_df[\"YEAR\"]\n",
    "y_values = deltaTemp_df[\"PHOENIX\"]\n",
    "\n",
    "(slope, intercept, rvalue, pvalue, stderr) = linregress(x_values, y_values)\n",
    "regress_values = x_values * slope + intercept\n",
    "line_eq = \"y = \" + str(round(slope,2)) + \"x + \" + str(round(intercept,2))\n",
    "plt.scatter(x_values,y_values, edgecolors = \"black\", facecolors = \"skyblue\")\n",
    "plt.plot(x_values,regress_values,\"r-\")\n",
    "plt.annotate(line_eq,(1985,0.5),fontsize=10,color=\"red\")\n",
    "#print(line_eq)\n",
    "plt.axhline(linewidth=0.5, color='dimgray', linestyle='--')\n",
    "plt.xlabel(\"Year\")\n",
    "plt.ylabel(\"Delta Temperature (C)\")\n",
    "plt.title(\"Temperature Change from 1951 - Phoenix\")\n",
    "print(f\"r-squared =: {rvalue}\")\n",
    "#plt.savefig(\"../Images/NorthMaxTempPlot.png\")\n",
    "\n",
    "plt.show()"
   ]
  },
  {
   "cell_type": "code",
   "execution_count": null,
   "metadata": {},
   "outputs": [],
   "source": [
    "y_values = deltaTemp_df[\"SAN FRANCISCO\"]\n",
    "\n",
    "(slope, intercept, rvalue, pvalue, stderr) = linregress(x_values, y_values)\n",
    "regress_values = x_values * slope + intercept\n",
    "line_eq = \"y = \" + str(round(slope,2)) + \"x + \" + str(round(intercept,2))\n",
    "plt.scatter(x_values,y_values, edgecolors = \"black\", facecolors = \"skyblue\")\n",
    "plt.plot(x_values,regress_values,\"r-\")\n",
    "plt.annotate(line_eq,(1985,-1),fontsize=10,color=\"red\")\n",
    "#print(line_eq)\n",
    "plt.axhline(linewidth=0.5, color='dimgray', linestyle='--')\n",
    "plt.xlabel(\"Year\")\n",
    "plt.ylabel(\"Delta Temperature (C)\")\n",
    "plt.title(\"Temperature Change from 1951 - San Francisco\")\n",
    "print(f\"r-squared =: {rvalue}\")\n",
    "#plt.savefig(\"../Images/NorthMaxTempPlot.png\")\n",
    "\n",
    "plt.show()"
   ]
  },
  {
   "cell_type": "markdown",
   "metadata": {},
   "source": [
    "![08-Hybrid_Map.png](../Images/08-Hybrid_Map.png)"
   ]
  },
  {
   "cell_type": "code",
   "execution_count": null,
   "metadata": {},
   "outputs": [],
   "source": [
    "# BONUS\n",
    "# Plot as a Terrain map\n",
    "fig = gmaps.figure(map_type=\"TERRAIN\")\n",
    "\n",
    "# Create heat layer\n",
    "heat_layer = gmaps.heatmap_layer(locations, weights=rating, \n",
    "                                 dissipating=False, max_intensity=10,\n",
    "                                 point_radius=1)\n",
    "\n",
    "fig.add_layer(heat_layer)\n",
    "fig"
   ]
  },
  {
   "cell_type": "markdown",
   "metadata": {},
   "source": [
    "![08-Terrain_Map.png](../Images/08-Terrain_Map.png)"
   ]
  },
  {
   "cell_type": "code",
   "execution_count": null,
   "metadata": {},
   "outputs": [],
   "source": []
  }
 ],
 "metadata": {
  "kernelspec": {
   "display_name": "Python 3.7.4 64-bit ('PythonData': conda)",
   "language": "python",
   "name": "python37464bitpythondataconda89d8a75d87334d9391e968c1e590e55a"
  },
  "language_info": {
   "codemirror_mode": {
    "name": "ipython",
    "version": 3
   },
   "file_extension": ".py",
   "mimetype": "text/x-python",
   "name": "python",
   "nbconvert_exporter": "python",
   "pygments_lexer": "ipython3",
   "version": "3.7.4"
  },
  "latex_envs": {
   "LaTeX_envs_menu_present": true,
   "autoclose": false,
   "autocomplete": true,
   "bibliofile": "biblio.bib",
   "cite_by": "apalike",
   "current_citInitial": 1,
   "eqLabelWithNumbers": true,
   "eqNumInitial": 1,
   "hotkeys": {
    "equation": "Ctrl-E",
    "itemize": "Ctrl-I"
   },
   "labels_anchors": false,
   "latex_user_defs": false,
   "report_style_numbering": false,
   "user_envs_cfg": false
  }
 },
 "nbformat": 4,
 "nbformat_minor": 2
}
