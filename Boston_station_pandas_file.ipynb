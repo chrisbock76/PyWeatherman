{
 "cells": [
  {
   "cell_type": "code",
   "execution_count": 29,
   "metadata": {},
   "outputs": [],
   "source": [
    "import pandas as pd\n",
    "\n",
    "import requests\n",
    "import json\n",
    "from pprint import pprint\n",
    "#REPLACE YOUR API KEY HERE!!!\n",
    "from config import MeteoStat_api_key as MeteoKey"
   ]
  },
  {
   "cell_type": "code",
   "execution_count": 30,
   "metadata": {},
   "outputs": [
    {
     "name": "stdout",
     "output_type": "stream",
     "text": "{'data': [{'country': 'US',\n           'id': '72278',\n           'name': 'Phoenix Sky Harbor Airport'},\n          {'country': 'US', 'id': 'KA390', 'name': 'Phoenix / Bon'},\n          {'country': 'US', 'id': 'KDVT0', 'name': 'Phoenix / Wild Flower'},\n          {'country': 'US',\n           'id': 'KGYR0',\n           'name': 'Phoenix / Litchfield Junction'},\n          {'country': 'US',\n           'id': 'KLUF0',\n           'name': 'Phoenix / Glendale / Webb'}],\n 'meta': {'source': 'National Oceanic and Atmospheric Administration, '\n                    'Deutscher Wetterdienst'}}\n"
    }
   ],
   "source": [
    "#Find stations based on city name using meteostat api\n",
    "city_url = \"https://api.meteostat.net/v1/stations/search?q=phoenix\"\n",
    "city_station = requests.get(f\"{city_url}&key={MeteoKey}\").json()\n",
    "#city_station = requests.get(city_url).json()\n",
    "pprint(city_station)"
   ]
  },
  {
   "cell_type": "code",
   "execution_count": 31,
   "metadata": {},
   "outputs": [],
   "source": [
    "#Station IDs\n",
    "Boston_station = \"72509\"\n",
    "Miami_station = \"72202\"\n",
    "Columbus_station = \"72428\"\n",
    "Nashville_station = \"72327\"\n",
    "DesMoines_station = \"72546\"\n",
    "NewOrleans_station = \"72231\"\n",
    "Phoenix_station = \"72278\"\n",
    "SaltLakeCity_station = \"72572\"\n",
    "Boise_station = \"72681\"\n",
    "SF_station = \"72494\"\n",
    "SanDiego_station = \"72290\"\n",
    "StPaulIsland_station = \"70308\"\n",
    "\n",
    "#Parameters for pull\n",
    "start_a = \"1951-01\"\n",
    "start_b = \"1981-09\"\n",
    "start_c = \"2011-09\"\n",
    "end = \"2017-12\""
   ]
  },
  {
   "cell_type": "code",
   "execution_count": 32,
   "metadata": {},
   "outputs": [],
   "source": [
    "Boston_weather_url = \"https://api.meteostat.net/v1/history/monthly?\"\n",
    "Boston_weather_data_a = requests.get(f\"{Boston_weather_url}station={Boston_station}&start={start_a}&end={end}&key={MeteoKey}\").json()\n",
    "Boston_weather_data_b = requests.get(f\"{Boston_weather_url}station={Boston_station}&start={start_b}&end={end}&key={MeteoKey}\").json()\n",
    "Boston_weather_data_c = requests.get(f\"{Boston_weather_url}station={Boston_station}&start={start_c}&end={end}&key={MeteoKey}\").json()"
   ]
  },
  {
   "cell_type": "code",
   "execution_count": 33,
   "metadata": {},
   "outputs": [
    {
     "name": "stdout",
     "output_type": "stream",
     "text": "  'temperature_max': 8.3,\n           'temperature_mean': -0.4,\n           'temperature_mean_max': 2.7,\n           'temperature_mean_min': -3.6,\n           'temperature_min': -9.3},\n          {'month': '2013-03',\n           'precipitation': 85,\n           'pressure': 1012,\n           'raindays': 7,\n           'sunshine': None,\n           'temperature_max': 15,\n           'temperature_mean': 3.2,\n           'temperature_mean_max': 6.6,\n           'temperature_mean_min': -0.2,\n           'temperature_min': -6},\n          {'month': '2013-04',\n           'precipitation': 35,\n           'pressure': 1020,\n           'raindays': 8,\n           'sunshine': None,\n           'temperature_max': 23.9,\n           'temperature_mean': 9.4,\n           'temperature_mean_max': 13.9,\n           'temperature_mean_min': 4.9,\n           'temperature_min': -0.5},\n          {'month': '2013-05',\n           'precipitation': 82,\n           'pressure': 1017.8,\n           'raindays': 12,\n           'sunshine': None,\n           'temperature_max': 34.4,\n           'temperature_mean': 14.9,\n           'temperature_mean_max': 19.6,\n           'temperature_mean_min': 10.2,\n           'temperature_min': 4.4},\n          {'month': '2013-06',\n           'precipitation': 267,\n           'pressure': 1012.8,\n           'raindays': 15,\n           'sunshine': None,\n           'temperature_max': 35,\n           'temperature_mean': 20.9,\n           'temperature_mean_max': 25.6,\n           'temperature_mean_min': 16.2,\n           'temperature_min': 11.7},\n          {'month': '2013-07',\n           'precipitation': 92,\n           'pressure': 1016.2,\n           'raindays': 5,\n           'sunshine': None,\n           'temperature_max': 37.2,\n           'temperature_mean': 25,\n           'temperature_mean_max': 29.3,\n           'temperature_mean_min': 20.8,\n           'temperature_min': 15.6},\n          {'month': '2013-08',\n           'precipitation': 47,\n           'pressure': 1015.6,\n           'raindays': 3,\n           'sunshine': None,\n           'temperature_max': 31.7,\n           'temperature_mean': 22.3,\n           'temperature_mean_max': 26.6,\n           'temperature_mean_min': 18,\n           'temperature_min': 15},\n          {'month': '2013-09',\n           'precipitation': 56,\n           'pressure': 1015.7,\n           'raindays': 6,\n           'sunshine': None,\n           'temperature_max': 36.1,\n           'temperature_mean': 18.2,\n           'temperature_mean_max': 22.8,\n           'temperature_mean_min': 13.5,\n           'temperature_min': 6.7},\n          {'month': '2013-10',\n           'precipitation': 16,\n           'pressure': 1018.1,\n           'raindays': 3,\n           'sunshine': None,\n           'temperature_max': 27.8,\n           'temperature_mean': 13.7,\n           'temperature_mean_max': 17.9,\n           'temperature_mean_min': 9.5,\n           'temperature_min': 1.7},\n          {'month': '2013-11',\n           'precipitation': 69,\n           'pressure': 1019.6,\n           'raindays': 7,\n           'sunshine': None,\n           'temperature_max': 22.2,\n           'temperature_mean': 6,\n           'temperature_mean_max': 10.4,\n           'temperature_mean_min': 1.6,\n           'temperature_min': -7.7},\n          {'month': '2013-12',\n           'precipitation': 118,\n           'pressure': 1018.7,\n           'raindays': 11,\n           'sunshine': None,\n           'temperature_max': 13.9,\n           'temperature_mean': 0.8,\n           'temperature_mean_max': 4.6,\n           'temperature_mean_min': -3.1,\n           'temperature_min': -12.7},\n          {'month': '2014-01',\n           'precipitation': 82,\n           'pressure': 1015.5,\n           'raindays': 8,\n           'sunshine': None,\n           'temperature_max': 15,\n           'temperature_mean': -2.5,\n           'temperature_mean_max': 1.7,\n           'temperature_mean_min': -6.7,\n           'temperature_min': -16.6},\n          {'month': '2014-02',\n           'precipitation': 105,\n           'pressure': 1016.4,\n           'raindays': 9,\n           'sunshine': None,\n           'temperature_max': 12.8,\n           'temperature_mean': -1.6,\n           'temperature_mean_max': 2.1,\n           'temperature_mean_min': -5.3,\n           'temperature_min': -13.2},\n          {'month': '2014-03',\n           'precipitation': 114,\n           'pressure': 1015.8,\n           'raindays': 6,\n           'sunshine': None,\n           'temperature_max': 15.6,\n           'temperature_mean': 0.9,\n           'temperature_mean_max': 5.4,\n           'temperature_mean_min': -3.7,\n           'temperature_min': -11.6},\n          {'month': '2014-04',\n           'precipitation': 82,\n           'pressure': 1017.1,\n           'raindays': 13,\n           'sunshine': None,\n           'temperature_max': 23.9,\n           'temperature_mean': 9,\n           'temperature_mean_max': 13.4,\n           'temperature_mean_min': 4.5,\n           'temperature_min': -0.5},\n          {'month': '2014-05',\n           'precipitation': 73,\n           'pressure': 1015.8,\n           'raindays': 10,\n           'sunshine': None,\n           'temperature_max': 29.4,\n           'temperature_mean': 14.8,\n           'temperature_mean_max': 19.1,\n           'temperature_mean_min': 10.6,\n           'temperature_min': 6.1},\n          {'month': '2014-06',\n           'precipitation': 67,\n           'pressure': 1015.5,\n           'raindays': 5,\n           'sunshine': None,\n           'temperature_max': 31.7,\n           'temperature_mean': 20.2,\n           'temperature_mean_max': 24.8,\n           'temperature_mean_min': 15.6,\n           'temperature_min': 10.6},\n          {'month': '2014-07',\n           'precipitation': 116,\n           'pressure': 1013.8,\n           'raindays': 8,\n           'sunshine': None,\n           'temperature_max': 33.3,\n           'temperature_mean': 23.4,\n           'temperature_mean_max': 27.9,\n           'temperature_mean_min': 18.9,\n           'temperature_min': 15},\n          {'month': '2014-08',\n           'precipitation': 45,\n           'pressure': 1016.2,\n           'raindays': 3,\n           'sunshine': None,\n           'temperature_max': 32.8,\n           'temperature_mean': 21.6,\n           'temperature_mean_max': 25.8,\n           'temperature_mean_min': 17.3,\n           'temperature_min': 14.4},\n          {'month': '2014-09',\n           'precipitation': 18,\n           'pressure': 1019.1,\n           'raindays': 4,\n           'sunshine': None,\n           'temperature_max': 33.9,\n           'temperature_mean': 19,\n           'temperature_mean_max': 23.4,\n           'temperature_mean_min': 14.6,\n           'temperature_min': 7.8},\n          {'month': '2014-10',\n           'precipitation': 148,\n           'pressure': 1013.2,\n           'raindays': 8,\n           'sunshine': None,\n           'temperature_max': 27.2,\n           'temperature_mean': 13.5,\n           'temperature_mean_max': 17.2,\n           'temperature_mean_min': 9.9,\n           'temperature_min': 3.9},\n          {'month': '2014-11',\n           'precipitation': 134,\n           'pressure': 1015.3,\n           'raindays': 9,\n           'sunshine': None,\n           'temperature_max': 18.9,\n           'temperature_mean': 5.8,\n           'temperature_mean_max': 9.7,\n           'temperature_mean_min': 2,\n           'temperature_min': -4.9},\n          {'month': '2014-12',\n           'precipitation': 167,\n           'pressure': 1019,\n           'raindays': 12,\n           'sunshine': None,\n           'temperature_max': 17.8,\n           'temperature_mean': 3.5,\n           'temperature_mean_max': 6.5,\n           'temperature_mean_min': 0.4,\n           'temperature_min': -7.7},\n          {'month': '2015-01',\n           'precipitation': 91,\n           'pressure': 1017.7,\n           'raindays': 10,\n           'sunshine': None,\n           'temperature_max': 11.1,\n           'temperature_mean': -3.2,\n           'temperature_mean_max': 0.7,\n           'temperature_mean_min': -7.1,\n           'temperature_min': None},\n          {'month': '2015-02',\n           'precipitation': 86,\n           'pressure': 1016.6,\n           'raindays': 12,\n           'sunshine': None,\n           'temperature_max': 3.9,\n           'temperature_mean': -7.1,\n           'temperature_mean_max': -2.3,\n           'temperature_mean_min': -12,\n           'temperature_min': None},\n          {'month': '2015-03',\n           'precipitation': 78,\n           'pressure': 1017.5,\n           'raindays': 12,\n           'sunshine': None,\n           'temperature_max': 13.9,\n           'temperature_mean': 0.7,\n           'temperature_mean_max': 5,\n           'temperature_mean_min': -3.5,\n           'temperature_min': None},\n          {'month': '2015-04',\n           'precipitation': 58,\n           'pressure': 1014.7,\n           'raindays': 9,\n           'sunshine': None,\n           'temperature_max': 20.6,\n           'temperature_mean': 8.9,\n           'temperature_mean_max': 13.2,\n           'temperature_mean_min': 4.6,\n           'temperature_min': None},\n          {'month': '2015-05',\n           'precipitation': 31,\n           'pressure': 1019.3,\n           'raindays': 2,\n           'sunshine': None,\n           'temperature_max': 31.7,\n           'temperature_mean': 16.8,\n           'temperature_mean_max': 22.9,\n           'temperature_mean_min': 10.8,\n           'temperature_min': None},\n          {'month': '2015-06',\n           'precipitation': 127,\n           'pressure': 1015.3,\n           'raindays': 8,\n           'sunshine': None,\n           'temperature_max': 31.1,\n           'temperature_mean': 18.1,\n           'temperature_mean_max': 22.2,\n           'temperature_mean_min': 14,\n           'temperature_min': None},\n          {'month': '2015-07',\n           'precipitation': 53,\n           'pressure': 1012.4,\n           'raindays': 5,\n           'sunshine': None,\n           'temperature_max': 33.3,\n           'temperature_mean': 23.3,\n           'temperature_mean_max': 27.5,\n           'temperature_mean_min': 19,\n           'temperature_min': None},\n          {'month': '2015-08',\n           'precipitation': 56,\n           'pressure': 1014.8,\n           'raindays': 5,\n           'sunshine': None,\n           'temperature_max': 32.8,\n           'temperature_mean': 23.7,\n           'temperature_mean_max': 28.2,\n           'temperature_mean_min': 19.2,\n           'temperature_min': None},\n          {'month': '2015-09',\n           'precipitation': 100,\n           'pressure': 1018.4,\n           'raindays': 6,\n           'sunshine': None,\n           'temperature_max': 35.6,\n           'temperature_mean': 20.7,\n           'temperature_mean_max': 25.2,\n           'temperature_mean_min': 16.1,\n           'temperature_min': None},\n          {'month': '2015-10',\n           'precipitation': 44,\n           'pressure': 1018.6,\n           'raindays': 6,\n           'sunshine': None,\n           'temperature_max': 24.4,\n           'temperature_mean': 12.2,\n           'temperature_mean_max': 16.3,\n           'temperature_mean_min': 8.1,\n           'temperature_min': None},\n          {'month': '2015-11',\n           'precipitation': 53,\n           'pressure': 1021.5,\n           'raindays': 7,\n           'sunshine': None,\n           'temperature_max': 24.4,\n           'temperature_mean': 9.2,\n           'temperature_mean_max': 13.3,\n           'temperature_mean_min': 5.2,\n           'temperature_min': None},\n          {'month': '2015-12',\n           'precipitation': 109,\n           'pressure': 1018.9,\n           'raindays': 12,\n           'sunshine': None,\n           'temperature_max': 20.6,\n           'temperature_mean': 7.4,\n           'temperature_mean_max': 10.9,\n           'temperature_mean_min': 3.8,\n           'temperature_min': None},\n          {'month': '2016-01',\n           'precipitation': 83,\n           'pressure': 1014.1,\n           'raindays': 6,\n           'sunshine': None,\n           'temperature_max': 14.4,\n           'temperature_mean': 0.3,\n           'temperature_mean_max': 4.2,\n           'temperature_mean_min': -3.5,\n           'temperature_min': None},\n          {'month': '2016-02',\n           'precipitation': 106,\n           'pressure': 1015.2,\n           'raindays': 7,\n           'sunshine': None,\n           'temperature_max': 18.3,\n           'temperature_mean': 1.5,\n           'temperature_mean_max': 6.5,\n           'temperature_mean_min': -3.5,\n           'temperature_min': None},\n          {'month': '2016-03',\n           'precipitation': 81,\n           'pressure': 1016.3,\n           'raindays': 9,\n           'sunshine': None,\n           'temperature_max': 25,\n           'temperature_mean': 5.9,\n           'temperature_mean_max': 10,\n           'temperature_mean_min': 1.7,\n           'temperature_min': None},\n          {'month': '2016-04',\n           'precipitation': 74,\n           'pressure': 1016.6,\n           'raindays': 8,\n           'sunshine': None,\n           'temperature_max': 25.6,\n           'temperature_mean': 8.4,\n           'temperature_mean_max': 12.6,\n           'temperature_mean_min': 4.2,\n           'temperature_min': None},\n          {'month': '2016-05',\n           'precipitation': 72,\n           'pressure': 1014.6,\n           'raindays': 9,\n           'sunshine': None,\n           'temperature_max': 33.3,\n           'temperature_mean': 14.8,\n           'temperature_mean_max': 19.2,\n           'temperature_mean_min': 10.4,\n           'temperature_min': None},\n          {'month': '2016-06',\n           'precipitation': 34,\n           'pressure': 1012.6,\n           'raindays': 4,\n           'sunshine': None,\n           'temperature_max': 30.6,\n           'temperature_mean': 20.2,\n           'temperature_mean_max': 24.9,\n           'temperature_mean_min': 15.6,\n           'temperature_min': None},\n          {'month': '2016-07',\n           'precipitation': 22,\n           'pressure': 1013.4,\n           'raindays': 6,\n           'sunshine': None,\n           'temperature_max': 36.7,\n           'temperature_mean': 24.5,\n           'temperature_mean_max': 29.3,\n           'temperature_mean_min': 19.7,\n           'temperature_min': None},\n          {'month': '2016-08',\n           'precipitation': 44,\n           'pressure': 1016.5,\n           'raindays': 5,\n           'sunshine': None,\n           'temperature_max': 36.7,\n           'temperature_mean': 24.7,\n           'temperature_mean_max': 29.3,\n           'temperature_mean_min': 20.1,\n           'temperature_min': None},\n          {'month': '2016-09',\n           'precipitation': 35,\n           'pressure': 1019.4,\n           'raindays': 7,\n           'sunshine': None,\n           'temperature_max': 33.9,\n           'temperature_mean': 19.7,\n           'temperature_mean_max': 23.5,\n           'temperature_mean_min': 15.9,\n           'temperature_min': None},\n          {'month': '2016-10',\n           'precipitation': 139,\n           'pressure': 1018.7,\n           'raindays': 9,\n           'sunshine': None,\n           'temperature_max': 27.2,\n           'temperature_mean': 13,\n           'temperature_mean_max': 16.9,\n           'temperature_mean_min': 9,\n           'temperature_min': None},\n          {'month': '2016-11',\n           'precipitation': 69,\n           'pressure': 1015.6,\n           'raindays': 7,\n           'sunshine': None,\n           'temperature_max': 21.1,\n           'temperature_mean': 7.9,\n           'temperature_mean_max': 12,\n           'temperature_mean_min': 3.8,\n           'temperature_min': None},\n          {'month': '2016-12',\n           'precipitation': 83,\n           'pressure': 1017.6,\n           'raindays': 9,\n           'sunshine': None,\n           'temperature_max': 14.4,\n           'temperature_mean': 1.8,\n           'temperature_mean_max': 5.5,\n           'temperature_mean_min': -1.9,\n           'temperature_min': None},\n          {'month': '2017-01',\n           'precipitation': 108,\n           'pressure': 1015.5,\n           'raindays': 15,\n           'sunshine': None,\n           'temperature_max': None,\n           'temperature_mean': None,\n           'temperature_mean_max': 5,\n           'temperature_mean_min': -1.5,\n           'temperature_min': None},\n          {'month': '2017-02',\n           'precipitation': 62,\n           'pressure': 1012.3,\n           'raindays': 6,\n           'sunshine': None,\n           'temperature_max': None,\n           'temperature_mean': None,\n           'temperature_mean_max': 7.1,\n           'temperature_mean_min': -1.9,\n           'temperature_min': None},\n          {'month': '2017-03',\n           'precipitation': 106,\n           'pressure': 1018.5,\n           'raindays': 8,\n           'sunshine': None,\n           'temperature_max': None,\n           'temperature_mean': None,\n           'temperature_mean_max': 5.2,\n           'temperature_mean_min': -2.9,\n           'temperature_min': None},\n          {'month': '2017-04',\n           'precipitation': 146,\n           'pressure': 1016.5,\n           'raindays': 8,\n           'sunshine': None,\n           'temperature_max': None,\n           'temperature_mean': None,\n           'temperature_mean_max': 15.5,\n           'temperature_mean_min': 6.3,\n           'temperature_min': None},\n          {'month': '2017-05',\n           'precipitation': 88,\n           'pressure': 1012.6,\n           'raindays': 11,\n           'sunshine': None,\n           'temperature_max': None,\n           'temperature_mean': None,\n           'temperature_mean_max': 17,\n           'temperature_mean_min': 10.1,\n           'temperature_min': None},\n          {'month': '2017-06',\n           'precipitation': 123,\n           'pressure': 1012.5,\n           'raindays': 11,\n           'sunshine': None,\n           'temperature_max': None,\n           'temperature_mean': None,\n           'temperature_mean_max': 25.8,\n           'temperature_mean_min': 15.9,\n           'temperature_min': None},\n          {'month': '2017-07',\n           'precipitation': 102,\n           'pressure': 1014.4,\n           'raindays': 9,\n           'sunshine': None,\n           'temperature_max': None,\n           'temperature_mean': None,\n           'temperature_mean_max': 26.7,\n           'temperature_mean_min': 18.3,\n           'temperature_min': None},\n          {'month': '2017-08',\n           'precipitation': 40,\n           'pressure': 1016.3,\n           'raindays': 6,\n           'sunshine': None,\n           'temperature_max': None,\n           'temperature_mean': None,\n           'temperature_mean_max': 26.4,\n           'temperature_mean_min': 18,\n           'temperature_min': None},\n          {'month': '2017-09',\n           'precipitation': 95,\n           'pressure': 1016,\n           'raindays': 9,\n           'sunshine': None,\n           'temperature_max': None,\n           'temperature_mean': None,\n           'temperature_mean_max': 23.6,\n           'temperature_mean_min': 15.5,\n           'temperature_min': None},\n          {'month': '2017-10',\n           'precipitation': 105,\n           'pressure': 1018.8,\n           'raindays': 8,\n           'sunshine': None,\n           'temperature_max': None,\n           'temperature_mean': None,\n           'temperature_mean_max': 20.5,\n           'temperature_mean_min': 12.1,\n           'temperature_min': None},\n          {'month': '2017-11',\n           'precipitation': 46,\n           'pressure': 1018.8,\n           'raindays': 7,\n           'sunshine': None,\n           'temperature_max': None,\n           'temperature_mean': None,\n           'temperature_mean_max': 10.7,\n           'temperature_mean_min': 2.3,\n           'temperature_min': None},\n          {'month': '2017-12',\n           'precipitation': 63,\n           'pressure': 1016.7,\n           'raindays': 8,\n           'sunshine': None,\n           'temperature_max': None,\n           'temperature_mean': None,\n           'temperature_mean_max': 2.5,\n           'temperature_mean_min': -4,\n           'temperature_min': None}],\n 'meta': {'source': 'National Oceanic and Atmospheric Administration, '\n                    'Deutscher Wetterdienst'}}\n"
    }
   ],
   "source": [
    "pprint(Boston_weather_data_c)"
   ]
  },
  {
   "cell_type": "code",
   "execution_count": 34,
   "metadata": {},
   "outputs": [],
   "source": [
    "Boston_weather_data_c = Boston_weather_data_c['data']"
   ]
  },
  {
   "cell_type": "code",
   "execution_count": 35,
   "metadata": {},
   "outputs": [
    {
     "data": {
      "text/html": "<div>\n<style scoped>\n    .dataframe tbody tr th:only-of-type {\n        vertical-align: middle;\n    }\n\n    .dataframe tbody tr th {\n        vertical-align: top;\n    }\n\n    .dataframe thead th {\n        text-align: right;\n    }\n</style>\n<table border=\"1\" class=\"dataframe\">\n  <thead>\n    <tr style=\"text-align: right;\">\n      <th></th>\n      <th>month</th>\n      <th>mean</th>\n    </tr>\n  </thead>\n  <tbody>\n    <tr>\n      <th>0</th>\n      <td>2011-09</td>\n      <td>19.6</td>\n    </tr>\n    <tr>\n      <th>1</th>\n      <td>2011-10</td>\n      <td>14.2</td>\n    </tr>\n    <tr>\n      <th>2</th>\n      <td>2011-11</td>\n      <td>10.2</td>\n    </tr>\n    <tr>\n      <th>3</th>\n      <td>2011-12</td>\n      <td>4.5</td>\n    </tr>\n    <tr>\n      <th>4</th>\n      <td>2012-01</td>\n      <td>1.2</td>\n    </tr>\n    <tr>\n      <th>...</th>\n      <td>...</td>\n      <td>...</td>\n    </tr>\n    <tr>\n      <th>71</th>\n      <td>2017-08</td>\n      <td>NaN</td>\n    </tr>\n    <tr>\n      <th>72</th>\n      <td>2017-09</td>\n      <td>NaN</td>\n    </tr>\n    <tr>\n      <th>73</th>\n      <td>2017-10</td>\n      <td>NaN</td>\n    </tr>\n    <tr>\n      <th>74</th>\n      <td>2017-11</td>\n      <td>NaN</td>\n    </tr>\n    <tr>\n      <th>75</th>\n      <td>2017-12</td>\n      <td>NaN</td>\n    </tr>\n  </tbody>\n</table>\n<p>76 rows × 2 columns</p>\n</div>",
      "text/plain": "      month  mean\n0   2011-09  19.6\n1   2011-10  14.2\n2   2011-11  10.2\n3   2011-12   4.5\n4   2012-01   1.2\n..      ...   ...\n71  2017-08   NaN\n72  2017-09   NaN\n73  2017-10   NaN\n74  2017-11   NaN\n75  2017-12   NaN\n\n[76 rows x 2 columns]"
     },
     "execution_count": 35,
     "metadata": {},
     "output_type": "execute_result"
    }
   ],
   "source": [
    "Boston_weather_mean = []\n",
    "Boston_weather_year = []\n",
    "Boston_weather_dic ={'month':Boston_weather_year,'mean': Boston_weather_mean}\n",
    "index = 0\n",
    "for x in Boston_weather_data_c:\n",
    "    w = Boston_weather_data_c[index][\"temperature_mean\"]\n",
    "    year = Boston_weather_data_c[index]['month']\n",
    "    Boston_weather_mean.append(w)\n",
    "    Boston_weather_year.append(year)\n",
    "    index = index + 1\n",
    "#print(Boston_weather_mean)\n",
    "#print(Boston_weather_year)\n",
    "weather = pd.DataFrame(Boston_weather_dic)\n",
    "weather"
   ]
  },
  {
   "cell_type": "code",
   "execution_count": null,
   "metadata": {},
   "outputs": [],
   "source": []
  },
  {
   "cell_type": "code",
   "execution_count": null,
   "metadata": {},
   "outputs": [],
   "source": []
  }
 ],
 "metadata": {
  "kernelspec": {
   "display_name": "Python 3.7.6 64-bit ('PythonData': conda)",
   "language": "python",
   "name": "python37664bitpythondatacondaf32c76a603324f80aa4cddb49579dbf2"
  },
  "language_info": {
   "codemirror_mode": {
    "name": "ipython",
    "version": 3
   },
   "file_extension": ".py",
   "mimetype": "text/x-python",
   "name": "python",
   "nbconvert_exporter": "python",
   "pygments_lexer": "ipython3",
   "version": "3.7.6-final"
  }
 },
 "nbformat": 4,
 "nbformat_minor": 2
}