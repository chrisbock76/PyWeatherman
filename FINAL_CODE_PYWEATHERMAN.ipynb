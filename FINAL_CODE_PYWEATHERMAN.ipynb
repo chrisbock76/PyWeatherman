{
 "cells": [
  {
   "cell_type": "code",
   "execution_count": 1,
   "metadata": {},
   "outputs": [],
   "source": [
    "# Dependencies\n",
    "import pandas as pd\n",
    "import requests\n",
    "import json\n",
    "from pprint import pprint\n",
    "from config import MeteoStat_api_key as MeteoKey\n",
    "import matplotlib.pyplot as plt\n",
    "import numpy as np\n",
    "import time\n",
    "from scipy.stats import linregress\n",
    "import datetime"
   ]
  },
  {
   "cell_type": "code",
   "execution_count": 2,
   "metadata": {},
   "outputs": [
    {
     "name": "stdout",
     "output_type": "stream",
     "text": [
      "{'data': [{'country': 'US', 'id': '72231', 'name': 'New Orleans Airport'},\n",
      "          {'country': 'US', 'id': 'KNBG0', 'name': 'New Orleans / Concession'},\n",
      "          {'country': 'US', 'id': 'KNEW0', 'name': 'New Orleans / Seabrook'},\n",
      "          {'country': 'US', 'id': 'KVSH0', 'name': 'New Orleans'}],\n",
      " 'meta': {'source': 'National Oceanic and Atmospheric Administration, '\n",
      "                    'Deutscher Wetterdienst'}}\n"
     ]
    }
   ],
   "source": [
    "#Find stations based on city name using meteostat api\n",
    "city_url = \"https://api.meteostat.net/v1/stations/search?q=new orleans\"\n",
    "city_station = requests.get(f\"{city_url}&key={MeteoKey}\").json()\n",
    "#city_station = requests.get(city_url).json()\n",
    "pprint(city_station)"
   ]
  },
  {
   "cell_type": "code",
   "execution_count": 3,
   "metadata": {},
   "outputs": [],
   "source": [
    "#Station IDs\n",
    "Boston_station = \"72509\"\n",
    "Miami_station = \"72202\"\n",
    "Columbus_station = \"72428\"\n",
    "Nashville_station = \"72327\"\n",
    "DesMoines_station = \"72546\"\n",
    "NewOrleans_station = \"72231\"\n",
    "Phoenix_station = \"72278\"\n",
    "SaltLakeCity_station = \"72572\"\n",
    "Boise_station = \"72681\"\n",
    "SF_station = \"72494\"\n",
    "SanDiego_station = \"72290\"\n",
    "StPaulIsland_station = \"70308\"\n",
    "\n",
    "#Parameters for pull\n",
    "start_a = \"1951-01\"\n",
    "start_b = \"1981-09\"\n",
    "start_c = \"2011-09\"\n",
    "end = \"2017-12\""
   ]
  },
  {
   "cell_type": "code",
   "execution_count": 4,
   "metadata": {},
   "outputs": [],
   "source": [
    "#Research meteostats api documentation for data pull\n",
    "#url = https://api.meteostat.net/{VERSION}/{PACKAGE}/{METHOD}?{PARAMETERS}\n",
    "#url = \"https://api.meteostat.net/v1/\"   #{PACKAGE}/{METHOD}?{PARAMETERS}\n",
    "#https://api.meteostat.net/v1/history/daily?station=10637&start=2017-01-01&end=2017-12-31&key=XXXXXXXX"
   ]
  },
  {
   "cell_type": "code",
   "execution_count": 5,
   "metadata": {},
   "outputs": [],
   "source": [
    "#Get Boston Weather Data from 1951 - 2017\n",
    "Boston_weather_url = \"https://api.meteostat.net/v1/history/monthly?\"\n",
    "Boston_weather_data_a = requests.get(f\"{Boston_weather_url}station={Boston_station}&start={start_a}&end={end}&key={MeteoKey}\").json()\n",
    "Boston_weather_data_b = requests.get(f\"{Boston_weather_url}station={Boston_station}&start={start_b}&end={end}&key={MeteoKey}\").json()\n",
    "Boston_weather_data_c = requests.get(f\"{Boston_weather_url}station={Boston_station}&start={start_c}&end={end}&key={MeteoKey}\").json()\n",
    "\n",
    "#Look at the data\n",
    "#pprint(Boston_weather_data_c)"
   ]
  },
  {
   "cell_type": "code",
   "execution_count": 6,
   "metadata": {},
   "outputs": [],
   "source": [
    "#Get Miami Weather Data from 1951 - 2017\n",
    "Miami_weather_url = \"https://api.meteostat.net/v1/history/monthly?\"\n",
    "Miami_weather_data_a = requests.get(f\"{Miami_weather_url}station={Miami_station}&start={start_a}&end={end}&key={MeteoKey}\").json()\n",
    "Miami_weather_data_b = requests.get(f\"{Miami_weather_url}station={Miami_station}&start={start_b}&end={end}&key={MeteoKey}\").json()\n",
    "Miami_weather_data_c = requests.get(f\"{Miami_weather_url}station={Miami_station}&start={start_c}&end={end}&key={MeteoKey}\").json()\n",
    "\n",
    "#Look at the data\n",
    "#pprint(Miami_weather_data_c)"
   ]
  },
  {
   "cell_type": "code",
   "execution_count": 7,
   "metadata": {},
   "outputs": [],
   "source": [
    "#Get Columbus (NO CLEVELAND DATA?!?) Weather Data from 1951 - 2017\n",
    "Columbus_weather_url = \"https://api.meteostat.net/v1/history/monthly?\"\n",
    "Columbus_weather_data_a = requests.get(f\"{Columbus_weather_url}station={Columbus_station}&start={start_a}&end={end}&key={MeteoKey}\").json()\n",
    "Columbus_weather_data_b = requests.get(f\"{Columbus_weather_url}station={Columbus_station}&start={start_b}&end={end}&key={MeteoKey}\").json()\n",
    "Columbus_weather_data_c = requests.get(f\"{Columbus_weather_url}station={Columbus_station}&start={start_c}&end={end}&key={MeteoKey}\").json()\n",
    "\n",
    "#Look at the data\n",
    "#pprint(Columbus_weather_data_c)"
   ]
  },
  {
   "cell_type": "code",
   "execution_count": 8,
   "metadata": {},
   "outputs": [],
   "source": [
    "#Get Nashville Weather Data from 1951 - 2017\n",
    "Nashville_weather_url = \"https://api.meteostat.net/v1/history/monthly?\"\n",
    "Nashville_weather_data_a = requests.get(f\"{Nashville_weather_url}station={Nashville_station}&start={start_a}&end={end}&key={MeteoKey}\").json()\n",
    "Nashville_weather_data_b = requests.get(f\"{Nashville_weather_url}station={Nashville_station}&start={start_b}&end={end}&key={MeteoKey}\").json()\n",
    "Nashville_weather_data_c = requests.get(f\"{Nashville_weather_url}station={Nashville_station}&start={start_c}&end={end}&key={MeteoKey}\").json()\n",
    "\n",
    "#Look at the data\n",
    "#pprint(Nashville_weather_data_c)"
   ]
  },
  {
   "cell_type": "code",
   "execution_count": 9,
   "metadata": {},
   "outputs": [],
   "source": [
    "#Get Des Moines Weather Data from 1951 - 2017\n",
    "DesMoines_weather_url = \"https://api.meteostat.net/v1/history/monthly?\"\n",
    "DesMoines_weather_data_a = requests.get(f\"{DesMoines_weather_url}station={DesMoines_station}&start={start_a}&end={end}&key={MeteoKey}\").json()\n",
    "DesMoines_weather_data_b = requests.get(f\"{DesMoines_weather_url}station={DesMoines_station}&start={start_b}&end={end}&key={MeteoKey}\").json()\n",
    "DesMoines_weather_data_c = requests.get(f\"{DesMoines_weather_url}station={DesMoines_station}&start={start_c}&end={end}&key={MeteoKey}\").json()\n",
    "\n",
    "#Look at the data\n",
    "#pprint(DesMoines_weather_data_c)"
   ]
  },
  {
   "cell_type": "code",
   "execution_count": 10,
   "metadata": {},
   "outputs": [],
   "source": [
    "#Get New Orleans Weather Data from 1951 - 2017\n",
    "NewOrleans_weather_url = \"https://api.meteostat.net/v1/history/monthly?\"\n",
    "NewOrleans_weather_data_a = requests.get(f\"{NewOrleans_weather_url}station={NewOrleans_station}&start={start_a}&end={end}&key={MeteoKey}\").json()\n",
    "NewOrleans_weather_data_b = requests.get(f\"{NewOrleans_weather_url}station={NewOrleans_station}&start={start_b}&end={end}&key={MeteoKey}\").json()\n",
    "NewOrleans_weather_data_c = requests.get(f\"{NewOrleans_weather_url}station={NewOrleans_station}&start={start_c}&end={end}&key={MeteoKey}\").json()\n",
    "\n",
    "#Look at the data\n",
    "#pprint(NewOrleans_weather_data_a)"
   ]
  },
  {
   "cell_type": "code",
   "execution_count": 11,
   "metadata": {},
   "outputs": [],
   "source": [
    "#Get San Francisco Weather Data from 1951 - 2017\n",
    "SF_weather_url = \"https://api.meteostat.net/v1/history/monthly?\"\n",
    "SF_weather_data_a = requests.get(f\"{SF_weather_url}station={SF_station}&start={start_a}&end={end}&key={MeteoKey}\").json()\n",
    "SF_weather_data_b = requests.get(f\"{SF_weather_url}station={SF_station}&start={start_b}&end={end}&key={MeteoKey}\").json()\n",
    "SF_weather_data_c = requests.get(f\"{SF_weather_url}station={SF_station}&start={start_c}&end={end}&key={MeteoKey}\").json()\n",
    "\n",
    "#Look at the data\n",
    "#pprint(SF_weather_data_c)"
   ]
  },
  {
   "cell_type": "code",
   "execution_count": 12,
   "metadata": {},
   "outputs": [],
   "source": [
    "#Get San Diego Weather Data from 1951 - 2017\n",
    "SanDiego_weather_url = \"https://api.meteostat.net/v1/history/monthly?\"\n",
    "SanDiego_weather_data_a = requests.get(f\"{SanDiego_weather_url}station={SanDiego_station}&start={start_a}&end={end}&key={MeteoKey}\").json()\n",
    "SanDiego_weather_data_b = requests.get(f\"{SanDiego_weather_url}station={SanDiego_station}&start={start_b}&end={end}&key={MeteoKey}\").json()\n",
    "SanDiego_weather_data_c = requests.get(f\"{SanDiego_weather_url}station={SanDiego_station}&start={start_c}&end={end}&key={MeteoKey}\").json()\n",
    "\n",
    "#Look at the data\n",
    "#pprint(SanDiego_weather_data_c)"
   ]
  },
  {
   "cell_type": "code",
   "execution_count": 13,
   "metadata": {},
   "outputs": [],
   "source": [
    "#Get St. Paul Island (Alaska) Weather Data from 1951 - 2017\n",
    "StPaulIsland_weather_url = \"https://api.meteostat.net/v1/history/monthly?\"\n",
    "StPaulIsland_weather_data_a = requests.get(f\"{StPaulIsland_weather_url}station={StPaulIsland_station}&start={start_a}&end={end}&key={MeteoKey}\").json()\n",
    "StPaulIsland_weather_data_b = requests.get(f\"{StPaulIsland_weather_url}station={StPaulIsland_station}&start={start_b}&end={end}&key={MeteoKey}\").json()\n",
    "StPaulIsland_weather_data_c = requests.get(f\"{StPaulIsland_weather_url}station={StPaulIsland_station}&start={start_c}&end={end}&key={MeteoKey}\").json()\n",
    "\n",
    "#Look at the data\n",
    "#pprint(StPaulIsland_weather_data_c)"
   ]
  },
  {
   "cell_type": "code",
   "execution_count": 14,
   "metadata": {},
   "outputs": [],
   "source": [
    "#Get Phoenix Weather Data from 1951 - 2017\n",
    "Phoenix_weather_url = \"https://api.meteostat.net/v1/history/monthly?\"\n",
    "Phoenix_weather_data_a = requests.get(f\"{Phoenix_weather_url}station={Phoenix_station}&start={start_a}&end={end}&key={MeteoKey}\").json()\n",
    "Phoenix_weather_data_b = requests.get(f\"{Phoenix_weather_url}station={Phoenix_station}&start={start_b}&end={end}&key={MeteoKey}\").json()\n",
    "Phoenix_weather_data_c = requests.get(f\"{Phoenix_weather_url}station={Phoenix_station}&start={start_c}&end={end}&key={MeteoKey}\").json()\n",
    "\n",
    "#Look at the data\n",
    "#pprint(Phoenix_weather_data_c)"
   ]
  },
  {
   "cell_type": "code",
   "execution_count": 15,
   "metadata": {},
   "outputs": [],
   "source": [
    "#Get Salt Lake City Weather Data from 1951 - 2017\n",
    "SaltLakeCity_weather_url = \"https://api.meteostat.net/v1/history/monthly?\"\n",
    "SaltLakeCity_weather_data_a = requests.get(f\"{SaltLakeCity_weather_url}station={SaltLakeCity_station}&start={start_a}&end={end}&key={MeteoKey}\").json()\n",
    "SaltLakeCity_weather_data_b = requests.get(f\"{SaltLakeCity_weather_url}station={SaltLakeCity_station}&start={start_b}&end={end}&key={MeteoKey}\").json()\n",
    "SaltLakeCity_weather_data_c = requests.get(f\"{SaltLakeCity_weather_url}station={SaltLakeCity_station}&start={start_c}&end={end}&key={MeteoKey}\").json()\n",
    "\n",
    "#Look at the data\n",
    "#pprint(SaltLakeCity_weather_data_c)"
   ]
  },
  {
   "cell_type": "code",
   "execution_count": 16,
   "metadata": {},
   "outputs": [],
   "source": [
    "#Get Boise Weather Data from 1951 - 2017\n",
    "Boise_weather_url = \"https://api.meteostat.net/v1/history/monthly?\"\n",
    "Boise_weather_data_a = requests.get(f\"{Boise_weather_url}station={Boise_station}&start={start_a}&end={end}&key={MeteoKey}\").json()\n",
    "Boise_weather_data_b = requests.get(f\"{Boise_weather_url}station={Boise_station}&start={start_b}&end={end}&key={MeteoKey}\").json()\n",
    "Boise_weather_data_c = requests.get(f\"{Boise_weather_url}station={Boise_station}&start={start_c}&end={end}&key={MeteoKey}\").json()\n",
    "\n",
    "#Look at the data\n",
    "#pprint(Boise_weather_data_c)"
   ]
  },
  {
   "cell_type": "code",
   "execution_count": 36,
   "metadata": {},
   "outputs": [],
   "source": [
    "#######################################################\n",
    "# Take pulled data and create city specific CSV files #\n",
    "#######################################################"
   ]
  },
  {
   "cell_type": "code",
   "execution_count": 41,
   "metadata": {},
   "outputs": [],
   "source": [
    "#Take All Nashville Data to a single CSV file#\n",
    "#____________________________________________#\n",
    "\n",
    "Nashville_data_a = Nashville_weather_data_a['data']\n",
    "Nashville_data_b = Nashville_weather_data_b['data']\n",
    "Nashville_data_c = Nashville_weather_data_c['data']\n",
    "#Nashville_data_a\n",
    "\n",
    "Nashville_mean = []\n",
    "Nashville_year = []\n",
    "Nashville_dic ={'month':Nashville_year,'mean': Nashville_mean}\n",
    "index = 0\n",
    "for x in Nashville_data_a:\n",
    "    w = Nashville_data_a[index][\"temperature_mean\"]\n",
    "    year = Nashville_data_a[index]['month']\n",
    "    Nashville_mean.append(w)\n",
    "    Nashville_year.append(year)\n",
    "    index = index + 1\n",
    "#print(Nashville_weather_mean)\n",
    "#print(Nashville_weather_year)\n",
    "weather_a = pd.DataFrame(Nashville_dic)\n",
    "#weather_a\n",
    "\n",
    "Nashville_mean = []\n",
    "Nashville_year = []\n",
    "Nashville_dic ={'month':Nashville_year,'mean': Nashville_mean}\n",
    "index = 0\n",
    "for x in Nashville_data_b:\n",
    "    w = Nashville_data_b[index][\"temperature_mean\"]\n",
    "    year = Nashville_data_b[index]['month']\n",
    "    Nashville_mean.append(w)\n",
    "    Nashville_year.append(year)\n",
    "    index = index + 1\n",
    "#print(Nashville_weather_mean)\n",
    "#print(Nashville_weather_year)\n",
    "weather_b = pd.DataFrame(Nashville_dic)\n",
    "#weather_b\n",
    "\n",
    "Nashville_mean = []\n",
    "Nashville_year = []\n",
    "Nashville_dic ={'month':Nashville_year,'mean': Nashville_mean}\n",
    "index = 0\n",
    "for x in Nashville_data_c:\n",
    "    w = Nashville_data_c[index][\"temperature_mean\"]\n",
    "    year = Nashville_data_c[index]['month']\n",
    "    Nashville_mean.append(w)\n",
    "    Nashville_year.append(year)\n",
    "    index = index + 1\n",
    "#print(Nashville_weather_mean)\n",
    "#print(Nashville_weather_year)\n",
    "weather_c = pd.DataFrame(Nashville_dic)\n",
    "#weather_c\n",
    "\n",
    "#Create joined df for CSV file\n",
    "Nashville_a_month_list = weather_a['month'].to_list()\n",
    "Nashville_a_mean_list = weather_a['mean'].to_list()\n",
    "Nashville_b_month_list = weather_b['month'].to_list()\n",
    "Nashville_b_mean_list = weather_b['mean'].to_list()\n",
    "Nashville_c_month_list = weather_c['month'].to_list()\n",
    "Nashville_c_mean_list = weather_c['mean'].to_list()\n",
    "\n",
    "#Nashville_a_month_list\n",
    "#Nashville_a_mean_list\n",
    "#Nashville_b_month_list\n",
    "#Nashville_b_mean_list\n",
    "#Nashville_c_month_list\n",
    "#Nashville_b_mean_list\n",
    "\n",
    "Nashville_month = Nashville_a_month_list + Nashville_b_month_list + Nashville_c_month_list\n",
    "#Nashville_month\n",
    "Nashville_mean = Nashville_a_mean_list + Nashville_b_mean_list + Nashville_c_mean_list\n",
    "#Nashville_mean\n",
    "\n",
    "Nashville_weather_file = pd.DataFrame({'month':Nashville_month,'mean':Nashville_mean})\n",
    "Nashville_weather_file\n",
    "\n",
    "#Create CSV File\n",
    "#Nashville_weather_file.to_csv('output_data/Nashville_weather_data.csv')"
   ]
  },
  {
   "cell_type": "code",
   "execution_count": 50,
   "metadata": {},
   "outputs": [],
   "source": [
    "#Take All Boise Data to a single CSV file#\n",
    "#____________________________________________#\n",
    "\n",
    "Boise_data_a = Boise_weather_data_a['data']\n",
    "Boise_data_b = Boise_weather_data_b['data']\n",
    "Boise_data_c = Boise_weather_data_c['data']\n",
    "#Boise_data_a\n",
    "\n",
    "Boise_mean = []\n",
    "Boise_year = []\n",
    "Boise_dic ={'month':Boise_year,'mean': Boise_mean}\n",
    "index = 0\n",
    "for x in Boise_data_a:\n",
    "    w = Boise_data_a[index][\"temperature_mean\"]\n",
    "    year = Boise_data_a[index]['month']\n",
    "    Boise_mean.append(w)\n",
    "    Boise_year.append(year)\n",
    "    index = index + 1\n",
    "#print(Boise_weather_mean)\n",
    "#print(Boise_weather_year)\n",
    "weather_a = pd.DataFrame(Boise_dic)\n",
    "#weather_a\n",
    "\n",
    "Boise_mean = []\n",
    "Boise_year = []\n",
    "Boise_dic ={'month':Boise_year,'mean': Boise_mean}\n",
    "index = 0\n",
    "for x in Boise_data_b:\n",
    "    w = Boise_data_b[index][\"temperature_mean\"]\n",
    "    year = Boise_data_b[index]['month']\n",
    "    Boise_mean.append(w)\n",
    "    Boise_year.append(year)\n",
    "    index = index + 1\n",
    "#print(Boise_weather_mean)\n",
    "#print(Boise_weather_year)\n",
    "weather_b = pd.DataFrame(Boise_dic)\n",
    "#weather_b\n",
    "\n",
    "Boise_mean = []\n",
    "Boise_year = []\n",
    "Boise_dic ={'month':Boise_year,'mean': Boise_mean}\n",
    "index = 0\n",
    "for x in Boise_data_c:\n",
    "    w = Boise_data_c[index][\"temperature_mean\"]\n",
    "    year = Boise_data_c[index]['month']\n",
    "    Boise_mean.append(w)\n",
    "    Boise_year.append(year)\n",
    "    index = index + 1\n",
    "#print(Boise_weather_mean)\n",
    "#print(Boise_weather_year)\n",
    "weather_c = pd.DataFrame(Boise_dic)\n",
    "#weather_c\n",
    "\n",
    "#Create joined df for CSV file\n",
    "Boise_a_month_list = weather_a['month'].to_list()\n",
    "Boise_a_mean_list = weather_a['mean'].to_list()\n",
    "Boise_b_month_list = weather_b['month'].to_list()\n",
    "Boise_b_mean_list = weather_b['mean'].to_list()\n",
    "Boise_c_month_list = weather_c['month'].to_list()\n",
    "Boise_c_mean_list = weather_c['mean'].to_list()\n",
    "\n",
    "#Boise_a_month_list\n",
    "#Boise_a_mean_list\n",
    "#Boise_b_month_list\n",
    "#Boise_b_mean_list\n",
    "#Boise_c_month_list\n",
    "#Boise_b_mean_list\n",
    "\n",
    "Boise_month = Boise_a_month_list + Boise_b_month_list + Boise_c_month_list\n",
    "#Boise_month\n",
    "Boise_mean = Boise_a_mean_list + Boise_b_mean_list + Boise_c_mean_list\n",
    "#Boise_mean\n",
    "\n",
    "Boise_weather_file = pd.DataFrame({'month':Boise_month,'mean':Boise_mean})\n",
    "Boise_weather_file\n",
    "\n",
    "#Create CSV File\n",
    "Boise_weather_file.to_csv('output_data/Boise_weather_data.csv')"
   ]
  },
  {
   "cell_type": "code",
   "execution_count": 56,
   "metadata": {},
   "outputs": [],
   "source": [
    "#Take All Boston Data to a single CSV file#\n",
    "#____________________________________________#\n",
    "\n",
    "Boston_data_a = Boston_weather_data_a['data']\n",
    "Boston_data_b = Boston_weather_data_b['data']\n",
    "Boston_data_c = Boston_weather_data_c['data']\n",
    "#Boston_data_a\n",
    "\n",
    "Boston_mean = []\n",
    "Boston_year = []\n",
    "Boston_dic ={'month':Boston_year,'mean': Boston_mean}\n",
    "index = 0\n",
    "for x in Boston_data_a:\n",
    "    w = Boston_data_a[index][\"temperature_mean\"]\n",
    "    year = Boston_data_a[index]['month']\n",
    "    Boston_mean.append(w)\n",
    "    Boston_year.append(year)\n",
    "    index = index + 1\n",
    "#print(Boston_weather_mean)\n",
    "#print(Boston_weather_year)\n",
    "weather_a = pd.DataFrame(Boston_dic)\n",
    "#weather_a\n",
    "\n",
    "Boston_mean = []\n",
    "Boston_year = []\n",
    "Boston_dic ={'month':Boston_year,'mean': Boston_mean}\n",
    "index = 0\n",
    "for x in Boston_data_b:\n",
    "    w = Boston_data_b[index][\"temperature_mean\"]\n",
    "    year = Boston_data_b[index]['month']\n",
    "    Boston_mean.append(w)\n",
    "    Boston_year.append(year)\n",
    "    index = index + 1\n",
    "#print(Boston_weather_mean)\n",
    "#print(Boston_weather_year)\n",
    "weather_b = pd.DataFrame(Boston_dic)\n",
    "#weather_b\n",
    "\n",
    "Boston_mean = []\n",
    "Boston_year = []\n",
    "Boston_dic ={'month':Boston_year,'mean': Boston_mean}\n",
    "index = 0\n",
    "for x in Boston_data_c:\n",
    "    w = Boston_data_c[index][\"temperature_mean\"]\n",
    "    year = Boston_data_c[index]['month']\n",
    "    Boston_mean.append(w)\n",
    "    Boston_year.append(year)\n",
    "    index = index + 1\n",
    "#print(Boston_weather_mean)\n",
    "#print(Boston_weather_year)\n",
    "weather_c = pd.DataFrame(Boston_dic)\n",
    "#weather_c\n",
    "\n",
    "#Create joined df for CSV file\n",
    "Boston_a_month_list = weather_a['month'].to_list()\n",
    "Boston_a_mean_list = weather_a['mean'].to_list()\n",
    "Boston_b_month_list = weather_b['month'].to_list()\n",
    "Boston_b_mean_list = weather_b['mean'].to_list()\n",
    "Boston_c_month_list = weather_c['month'].to_list()\n",
    "Boston_c_mean_list = weather_c['mean'].to_list()\n",
    "\n",
    "#Boston_a_month_list\n",
    "#Boston_a_mean_list\n",
    "#Boston_b_month_list\n",
    "#Boston_b_mean_list\n",
    "#Boston_c_month_list\n",
    "#Boston_b_mean_list\n",
    "\n",
    "Boston_month = Boston_a_month_list + Boston_b_month_list + Boston_c_month_list\n",
    "#Boston_month\n",
    "Boston_mean = Boston_a_mean_list + Boston_b_mean_list + Boston_c_mean_list\n",
    "#Boston_mean\n",
    "\n",
    "Boston_weather_file = pd.DataFrame({'month':Boston_month,'mean':Boston_mean})\n",
    "Boston_weather_file\n",
    "\n",
    "#Create CSV File\n",
    "Boston_weather_file.to_csv('output_data/Boston_weather_data.csv')"
   ]
  },
  {
   "cell_type": "code",
   "execution_count": 49,
   "metadata": {},
   "outputs": [],
   "source": []
  },
  {
   "cell_type": "code",
   "execution_count": null,
   "metadata": {},
   "outputs": [],
   "source": []
  },
  {
   "cell_type": "code",
   "execution_count": null,
   "metadata": {},
   "outputs": [],
   "source": []
  },
  {
   "cell_type": "code",
   "execution_count": null,
   "metadata": {},
   "outputs": [],
   "source": []
  },
  {
   "cell_type": "code",
   "execution_count": null,
   "metadata": {},
   "outputs": [],
   "source": []
  },
  {
   "cell_type": "code",
   "execution_count": null,
   "metadata": {},
   "outputs": [],
   "source": []
  },
  {
   "cell_type": "code",
   "execution_count": null,
   "metadata": {},
   "outputs": [],
   "source": []
  },
  {
   "cell_type": "code",
   "execution_count": null,
   "metadata": {},
   "outputs": [],
   "source": []
  },
  {
   "cell_type": "code",
   "execution_count": null,
   "metadata": {},
   "outputs": [],
   "source": []
  },
  {
   "cell_type": "code",
   "execution_count": null,
   "metadata": {},
   "outputs": [],
   "source": []
  },
  {
   "cell_type": "code",
   "execution_count": null,
   "metadata": {},
   "outputs": [],
   "source": []
  },
  {
   "cell_type": "code",
   "execution_count": null,
   "metadata": {},
   "outputs": [],
   "source": []
  },
  {
   "cell_type": "code",
   "execution_count": null,
   "metadata": {},
   "outputs": [],
   "source": []
  },
  {
   "cell_type": "code",
   "execution_count": null,
   "metadata": {},
   "outputs": [],
   "source": []
  },
  {
   "cell_type": "code",
   "execution_count": null,
   "metadata": {},
   "outputs": [],
   "source": []
  },
  {
   "cell_type": "code",
   "execution_count": null,
   "metadata": {},
   "outputs": [],
   "source": []
  },
  {
   "cell_type": "code",
   "execution_count": null,
   "metadata": {},
   "outputs": [],
   "source": []
  },
  {
   "cell_type": "code",
   "execution_count": null,
   "metadata": {},
   "outputs": [],
   "source": []
  },
  {
   "cell_type": "code",
   "execution_count": null,
   "metadata": {},
   "outputs": [],
   "source": []
  },
  {
   "cell_type": "code",
   "execution_count": null,
   "metadata": {},
   "outputs": [],
   "source": []
  },
  {
   "cell_type": "code",
   "execution_count": null,
   "metadata": {},
   "outputs": [],
   "source": []
  },
  {
   "cell_type": "code",
   "execution_count": null,
   "metadata": {},
   "outputs": [],
   "source": []
  },
  {
   "cell_type": "code",
   "execution_count": null,
   "metadata": {},
   "outputs": [],
   "source": []
  },
  {
   "cell_type": "code",
   "execution_count": null,
   "metadata": {},
   "outputs": [],
   "source": []
  },
  {
   "cell_type": "code",
   "execution_count": null,
   "metadata": {},
   "outputs": [],
   "source": []
  },
  {
   "cell_type": "code",
   "execution_count": null,
   "metadata": {},
   "outputs": [],
   "source": []
  },
  {
   "cell_type": "code",
   "execution_count": null,
   "metadata": {},
   "outputs": [],
   "source": []
  },
  {
   "cell_type": "code",
   "execution_count": null,
   "metadata": {},
   "outputs": [],
   "source": []
  },
  {
   "cell_type": "code",
   "execution_count": null,
   "metadata": {},
   "outputs": [],
   "source": []
  },
  {
   "cell_type": "code",
   "execution_count": null,
   "metadata": {},
   "outputs": [],
   "source": []
  },
  {
   "cell_type": "code",
   "execution_count": null,
   "metadata": {},
   "outputs": [],
   "source": []
  },
  {
   "cell_type": "code",
   "execution_count": null,
   "metadata": {},
   "outputs": [],
   "source": []
  },
  {
   "cell_type": "code",
   "execution_count": null,
   "metadata": {},
   "outputs": [],
   "source": []
  },
  {
   "cell_type": "code",
   "execution_count": 19,
   "metadata": {},
   "outputs": [],
   "source": [
    "#Add Data Cleaning code here"
   ]
  },
  {
   "cell_type": "code",
   "execution_count": null,
   "metadata": {},
   "outputs": [],
   "source": []
  },
  {
   "cell_type": "code",
   "execution_count": null,
   "metadata": {},
   "outputs": [],
   "source": []
  },
  {
   "cell_type": "code",
   "execution_count": 20,
   "metadata": {},
   "outputs": [],
   "source": [
    "#Add Googlemap code here"
   ]
  },
  {
   "cell_type": "code",
   "execution_count": null,
   "metadata": {},
   "outputs": [],
   "source": []
  },
  {
   "cell_type": "code",
   "execution_count": null,
   "metadata": {},
   "outputs": [],
   "source": []
  },
  {
   "cell_type": "code",
   "execution_count": 21,
   "metadata": {},
   "outputs": [],
   "source": [
    "#Add Seaborn Heatmap code here"
   ]
  },
  {
   "cell_type": "code",
   "execution_count": null,
   "metadata": {},
   "outputs": [],
   "source": []
  },
  {
   "cell_type": "code",
   "execution_count": null,
   "metadata": {},
   "outputs": [],
   "source": []
  },
  {
   "cell_type": "code",
   "execution_count": 22,
   "metadata": {},
   "outputs": [],
   "source": [
    "#Pull Clean Data from CSV file and analyze using scatterplots and regression curve fits"
   ]
  },
  {
   "cell_type": "code",
   "execution_count": 23,
   "metadata": {},
   "outputs": [
    {
     "data": {
      "text/html": [
       "<div>\n",
       "<style scoped>\n",
       "    .dataframe tbody tr th:only-of-type {\n",
       "        vertical-align: middle;\n",
       "    }\n",
       "\n",
       "    .dataframe tbody tr th {\n",
       "        vertical-align: top;\n",
       "    }\n",
       "\n",
       "    .dataframe thead th {\n",
       "        text-align: right;\n",
       "    }\n",
       "</style>\n",
       "<table border=\"1\" class=\"dataframe\">\n",
       "  <thead>\n",
       "    <tr style=\"text-align: right;\">\n",
       "      <th></th>\n",
       "      <th>YEAR</th>\n",
       "      <th>BOISE</th>\n",
       "      <th>BOSTON</th>\n",
       "      <th>COLUMBUS</th>\n",
       "      <th>DES MOINES</th>\n",
       "      <th>MIAMI</th>\n",
       "      <th>NASHVILLE</th>\n",
       "      <th>NEW ORLEANS</th>\n",
       "      <th>PHOENIX</th>\n",
       "      <th>SALT LAKE CITY</th>\n",
       "      <th>SAN DIEGO</th>\n",
       "      <th>SAN FRANCISCO</th>\n",
       "      <th>ST. PAUL</th>\n",
       "    </tr>\n",
       "  </thead>\n",
       "  <tbody>\n",
       "    <tr>\n",
       "      <td>0</td>\n",
       "      <td>1951</td>\n",
       "      <td>0.0</td>\n",
       "      <td>0.0</td>\n",
       "      <td>0.0</td>\n",
       "      <td>0.0</td>\n",
       "      <td>0.0</td>\n",
       "      <td>0.0</td>\n",
       "      <td>0.0</td>\n",
       "      <td>0.0</td>\n",
       "      <td>0.0</td>\n",
       "      <td>0.0</td>\n",
       "      <td>0.0</td>\n",
       "      <td>0.0</td>\n",
       "    </tr>\n",
       "    <tr>\n",
       "      <td>1</td>\n",
       "      <td>1952</td>\n",
       "      <td>0.3</td>\n",
       "      <td>0.2</td>\n",
       "      <td>1.2</td>\n",
       "      <td>1.9</td>\n",
       "      <td>0.5</td>\n",
       "      <td>0.8</td>\n",
       "      <td>-1.1</td>\n",
       "      <td>0.3</td>\n",
       "      <td>0.2</td>\n",
       "      <td>-0.1</td>\n",
       "      <td>-0.3</td>\n",
       "      <td>0.0</td>\n",
       "    </tr>\n",
       "    <tr>\n",
       "      <td>2</td>\n",
       "      <td>1953</td>\n",
       "      <td>0.9</td>\n",
       "      <td>0.9</td>\n",
       "      <td>1.7</td>\n",
       "      <td>2.6</td>\n",
       "      <td>0.6</td>\n",
       "      <td>1.0</td>\n",
       "      <td>-0.1</td>\n",
       "      <td>-0.1</td>\n",
       "      <td>1.4</td>\n",
       "      <td>0.5</td>\n",
       "      <td>0.0</td>\n",
       "      <td>-0.6</td>\n",
       "    </tr>\n",
       "    <tr>\n",
       "      <td>3</td>\n",
       "      <td>1954</td>\n",
       "      <td>0.6</td>\n",
       "      <td>-0.5</td>\n",
       "      <td>1.3</td>\n",
       "      <td>2.7</td>\n",
       "      <td>0.2</td>\n",
       "      <td>1.1</td>\n",
       "      <td>-0.4</td>\n",
       "      <td>1.6</td>\n",
       "      <td>1.2</td>\n",
       "      <td>0.6</td>\n",
       "      <td>-0.3</td>\n",
       "      <td>-1.2</td>\n",
       "    </tr>\n",
       "    <tr>\n",
       "      <td>4</td>\n",
       "      <td>1955</td>\n",
       "      <td>-0.7</td>\n",
       "      <td>-0.5</td>\n",
       "      <td>1.2</td>\n",
       "      <td>2.0</td>\n",
       "      <td>0.0</td>\n",
       "      <td>0.5</td>\n",
       "      <td>-0.1</td>\n",
       "      <td>-0.3</td>\n",
       "      <td>-0.7</td>\n",
       "      <td>0.0</td>\n",
       "      <td>-0.5</td>\n",
       "      <td>-1.6</td>\n",
       "    </tr>\n",
       "  </tbody>\n",
       "</table>\n",
       "</div>"
      ],
      "text/plain": [
       "   YEAR  BOISE  BOSTON  COLUMBUS  DES MOINES  MIAMI  NASHVILLE  NEW ORLEANS  \\\n",
       "0  1951    0.0     0.0       0.0         0.0    0.0        0.0          0.0   \n",
       "1  1952    0.3     0.2       1.2         1.9    0.5        0.8         -1.1   \n",
       "2  1953    0.9     0.9       1.7         2.6    0.6        1.0         -0.1   \n",
       "3  1954    0.6    -0.5       1.3         2.7    0.2        1.1         -0.4   \n",
       "4  1955   -0.7    -0.5       1.2         2.0    0.0        0.5         -0.1   \n",
       "\n",
       "   PHOENIX  SALT LAKE CITY  SAN DIEGO  SAN FRANCISCO  ST. PAUL  \n",
       "0      0.0             0.0        0.0            0.0       0.0  \n",
       "1      0.3             0.2       -0.1           -0.3       0.0  \n",
       "2     -0.1             1.4        0.5            0.0      -0.6  \n",
       "3      1.6             1.2        0.6           -0.3      -1.2  \n",
       "4     -0.3            -0.7        0.0           -0.5      -1.6  "
      ]
     },
     "execution_count": 23,
     "metadata": {},
     "output_type": "execute_result"
    }
   ],
   "source": [
    "# Output File (CSV)\n",
    "deltaTemp_df = pd.read_csv(\"output_data/WeatherData-Annual-Delta-FINAL.csv\")\n",
    "deltaTemp_df.head()"
   ]
  },
  {
   "cell_type": "code",
   "execution_count": 24,
   "metadata": {},
   "outputs": [
    {
     "name": "stdout",
     "output_type": "stream",
     "text": [
      "r-squared =: 0.8786698425845434\n"
     ]
    },
    {
     "data": {
      "image/png": "[encoded data removed]",
      "text/plain": [
       "<Figure size 432x288 with 1 Axes>"
      ]
     },
     "metadata": {
      "needs_background": "light"
     },
     "output_type": "display_data"
    }
   ],
   "source": [
    "x_values = deltaTemp_df[\"YEAR\"]\n",
    "y_values = deltaTemp_df[\"PHOENIX\"]\n",
    "\n",
    "(slope, intercept, rvalue, pvalue, stderr) = linregress(x_values, y_values)\n",
    "regress_values = x_values * slope + intercept\n",
    "line_eq = \"y = \" + str(round(slope,2)) + \"x + \" + str(round(intercept,2))\n",
    "plt.scatter(x_values,y_values, edgecolors = \"black\", facecolors = \"skyblue\")\n",
    "plt.plot(x_values,regress_values,\"r-\")\n",
    "plt.annotate(line_eq,(1985,0.5),fontsize=10,color=\"red\")\n",
    "#print(line_eq)\n",
    "plt.axhline(linewidth=0.5, color='dimgray', linestyle='--')\n",
    "plt.xlabel(\"Year\")\n",
    "plt.ylabel(\"Delta Temperature (C)\")\n",
    "plt.title(\"Temperature Change from 1951 - Phoenix\")\n",
    "print(f\"r-squared =: {rvalue}\")\n",
    "#plt.savefig(\"Images/PhoenixScatterPlot.png\")\n",
    "\n",
    "plt.show()"
   ]
  },
  {
   "cell_type": "code",
   "execution_count": 25,
   "metadata": {},
   "outputs": [
    {
     "name": "stdout",
     "output_type": "stream",
     "text": [
      "r-squared =: 0.615788833422134\n"
     ]
    },
    {
     "data": {
      "image/png": "[encoded data removed]",
      "text/plain": [
       "<Figure size 432x288 with 1 Axes>"
      ]
     },
     "metadata": {
      "needs_background": "light"
     },
     "output_type": "display_data"
    }
   ],
   "source": [
    "y_values = deltaTemp_df[\"SAN FRANCISCO\"]\n",
    "\n",
    "(slope, intercept, rvalue, pvalue, stderr) = linregress(x_values, y_values)\n",
    "regress_values = x_values * slope + intercept\n",
    "line_eq = \"y = \" + str(round(slope,2)) + \"x + \" + str(round(intercept,2))\n",
    "plt.scatter(x_values,y_values, edgecolors = \"black\", facecolors = \"skyblue\")\n",
    "plt.plot(x_values,regress_values,\"r-\")\n",
    "plt.annotate(line_eq,(1985,-1),fontsize=10,color=\"red\")\n",
    "#print(line_eq)\n",
    "plt.axhline(linewidth=0.5, color='dimgray', linestyle='--')\n",
    "plt.xlabel(\"Year\")\n",
    "plt.ylabel(\"Delta Temperature (C)\")\n",
    "plt.title(\"Temperature Change from 1951 - San Francisco\")\n",
    "print(f\"r-squared =: {rvalue}\")\n",
    "#plt.savefig(\"Images/SFScatterPlot.png\")\n",
    "\n",
    "plt.show()"
   ]
  },
  {
   "cell_type": "code",
   "execution_count": 26,
   "metadata": {},
   "outputs": [
    {
     "name": "stdout",
     "output_type": "stream",
     "text": [
      "r-squared =: 0.3056474611623685\n"
     ]
    },
    {
     "data": {
      "image/png": "[encoded data removed]",
      "text/plain": [
       "<Figure size 432x288 with 1 Axes>"
      ]
     },
     "metadata": {
      "needs_background": "light"
     },
     "output_type": "display_data"
    }
   ],
   "source": [
    "y_values = deltaTemp_df[\"BOSTON\"]\n",
    "\n",
    "(slope, intercept, rvalue, pvalue, stderr) = linregress(x_values, y_values)\n",
    "regress_values = x_values * slope + intercept\n",
    "line_eq = \"y = \" + str(round(slope,2)) + \"x + \" + str(round(intercept,2))\n",
    "plt.scatter(x_values,y_values, edgecolors = \"black\", facecolors = \"skyblue\")\n",
    "plt.plot(x_values,regress_values,\"r-\")\n",
    "plt.annotate(line_eq,(1985,-1),fontsize=10,color=\"red\")\n",
    "#print(line_eq)\n",
    "plt.axhline(linewidth=0.5, color='dimgray', linestyle='--')\n",
    "plt.xlabel(\"Year\")\n",
    "plt.ylabel(\"Delta Temperature (C)\")\n",
    "plt.title(\"Temperature Change from 1951 - Boston\")\n",
    "print(f\"r-squared =: {rvalue}\")\n",
    "#plt.savefig(\"Images/BostonScatterPlot.png\")\n",
    "\n",
    "plt.show()"
   ]
  },
  {
   "cell_type": "code",
   "execution_count": 27,
   "metadata": {},
   "outputs": [
    {
     "name": "stdout",
     "output_type": "stream",
     "text": [
      "r-squared =: 0.5405874055347272\n"
     ]
    },
    {
     "data": {
      "image/png": "[encoded data removed]",
      "text/plain": [
       "<Figure size 432x288 with 1 Axes>"
      ]
     },
     "metadata": {
      "needs_background": "light"
     },
     "output_type": "display_data"
    }
   ],
   "source": [
    "y_values = deltaTemp_df[\"NEW ORLEANS\"]\n",
    "\n",
    "(slope, intercept, rvalue, pvalue, stderr) = linregress(x_values, y_values)\n",
    "regress_values = x_values * slope + intercept\n",
    "line_eq = \"y = \" + str(round(slope,2)) + \"x + \" + str(round(intercept,2))\n",
    "plt.scatter(x_values,y_values, edgecolors = \"black\", facecolors = \"skyblue\")\n",
    "plt.plot(x_values,regress_values,\"r-\")\n",
    "plt.annotate(line_eq,(1985,-1),fontsize=10,color=\"red\")\n",
    "#print(line_eq)\n",
    "plt.axhline(linewidth=0.5, color='dimgray', linestyle='--')\n",
    "plt.xlabel(\"Year\")\n",
    "plt.ylabel(\"Delta Temperature (C)\")\n",
    "plt.title(\"Temperature Change from 1951 - New Orleans\")\n",
    "print(f\"r-squared =: {rvalue}\")\n",
    "#plt.savefig(\"Images/NewOrleansScatterPlot.png\")\n",
    "\n",
    "plt.show()"
   ]
  },
  {
   "cell_type": "code",
   "execution_count": 28,
   "metadata": {},
   "outputs": [
    {
     "name": "stdout",
     "output_type": "stream",
     "text": [
      "r-squared =: 0.5660033795608995\n"
     ]
    },
    {
     "data": {
      "image/png": "[encoded data removed]",
      "text/plain": [
       "<Figure size 432x288 with 1 Axes>"
      ]
     },
     "metadata": {
      "needs_background": "light"
     },
     "output_type": "display_data"
    }
   ],
   "source": [
    "y_values = deltaTemp_df[\"BOISE\"]\n",
    "\n",
    "(slope, intercept, rvalue, pvalue, stderr) = linregress(x_values, y_values)\n",
    "regress_values = x_values * slope + intercept\n",
    "line_eq = \"y = \" + str(round(slope,2)) + \"x + \" + str(round(intercept,2))\n",
    "plt.scatter(x_values,y_values, edgecolors = \"black\", facecolors = \"skyblue\")\n",
    "plt.plot(x_values,regress_values,\"r-\")\n",
    "plt.annotate(line_eq,(1985,-1),fontsize=10,color=\"red\")\n",
    "#print(line_eq)\n",
    "plt.axhline(linewidth=0.5, color='dimgray', linestyle='--')\n",
    "plt.xlabel(\"Year\")\n",
    "plt.ylabel(\"Delta Temperature (C)\")\n",
    "plt.title(\"Temperature Change from 1951 - Boise\")\n",
    "print(f\"r-squared =: {rvalue}\")\n",
    "#plt.savefig(\"Images/BoiseScatterPlot.png\")\n",
    "\n",
    "plt.show()"
   ]
  },
  {
   "cell_type": "code",
   "execution_count": 29,
   "metadata": {},
   "outputs": [
    {
     "name": "stdout",
     "output_type": "stream",
     "text": [
      "r-squared =: 0.31844391176661696\n"
     ]
    },
    {
     "data": {
      "image/png": "[encoded data removed]",
      "text/plain": [
       "<Figure size 432x288 with 1 Axes>"
      ]
     },
     "metadata": {
      "needs_background": "light"
     },
     "output_type": "display_data"
    }
   ],
   "source": [
    "y_values = deltaTemp_df[\"NASHVILLE\"]\n",
    "\n",
    "(slope, intercept, rvalue, pvalue, stderr) = linregress(x_values, y_values)\n",
    "regress_values = x_values * slope + intercept\n",
    "line_eq = \"y = \" + str(round(slope,2)) + \"x + \" + str(round(intercept,2))\n",
    "plt.scatter(x_values,y_values, edgecolors = \"black\", facecolors = \"skyblue\")\n",
    "plt.plot(x_values,regress_values,\"r-\")\n",
    "plt.annotate(line_eq,(1985,-1),fontsize=10,color=\"red\")\n",
    "#print(line_eq)\n",
    "plt.axhline(linewidth=0.5, color='dimgray', linestyle='--')\n",
    "plt.xlabel(\"Year\")\n",
    "plt.ylabel(\"Delta Temperature (C)\")\n",
    "plt.title(\"Temperature Change from 1951 - Nashville\")\n",
    "print(f\"r-squared =: {rvalue}\")\n",
    "#plt.savefig(\"Images/NashvilleScatterPlot.png\")\n",
    "\n",
    "plt.show()"
   ]
  },
  {
   "cell_type": "code",
   "execution_count": 53,
   "metadata": {},
   "outputs": [
    {
     "name": "stdout",
     "output_type": "stream",
     "text": [
      "r-squared =: 0.3063707706914124\n"
     ]
    },
    {
     "data": {
      "image/png": "[encoded data removed]",
      "text/plain": [
       "<Figure size 432x288 with 1 Axes>"
      ]
     },
     "metadata": {
      "needs_background": "light"
     },
     "output_type": "display_data"
    }
   ],
   "source": [
    "y_values = deltaTemp_df[\"SAN DIEGO\"]\n",
    "\n",
    "(slope, intercept, rvalue, pvalue, stderr) = linregress(x_values, y_values)\n",
    "regress_values = x_values * slope + intercept\n",
    "line_eq = \"y = \" + str(round(slope,2)) + \"x + \" + str(round(intercept,2))\n",
    "plt.scatter(x_values,y_values, edgecolors = \"black\", facecolors = \"skyblue\")\n",
    "plt.plot(x_values,regress_values,\"r-\")\n",
    "plt.annotate(line_eq,(1960,2.5),fontsize=10,color=\"red\")\n",
    "#print(line_eq)\n",
    "plt.axhline(linewidth=0.5, color='dimgray', linestyle='--')\n",
    "plt.xlabel(\"Year\")\n",
    "plt.ylabel(\"Delta Temperature (C)\")\n",
    "plt.title(\"Temperature Change from 1951 - San Diego\")\n",
    "print(f\"r-squared =: {rvalue}\")\n",
    "#plt.savefig(\"Images/SanDiegoScatterPlot.png\")\n",
    "\n",
    "plt.show()"
   ]
  },
  {
   "cell_type": "code",
   "execution_count": 54,
   "metadata": {},
   "outputs": [
    {
     "name": "stdout",
     "output_type": "stream",
     "text": [
      "r-squared =: 0.4925724297485979\n"
     ]
    },
    {
     "data": {
      "image/png": "[encoded data removed]",
      "text/plain": [
       "<Figure size 432x288 with 1 Axes>"
      ]
     },
     "metadata": {
      "needs_background": "light"
     },
     "output_type": "display_data"
    }
   ],
   "source": [
    "y_values = deltaTemp_df[\"DES MOINES\"]\n",
    "\n",
    "(slope, intercept, rvalue, pvalue, stderr) = linregress(x_values, y_values)\n",
    "regress_values = x_values * slope + intercept\n",
    "line_eq = \"y = \" + str(round(slope,2)) + \"x + \" + str(round(intercept,2))\n",
    "plt.scatter(x_values,y_values, edgecolors = \"black\", facecolors = \"skyblue\")\n",
    "plt.plot(x_values,regress_values,\"r-\")\n",
    "plt.annotate(line_eq,(1960,4),fontsize=10,color=\"red\")\n",
    "#print(line_eq)\n",
    "plt.axhline(linewidth=0.5, color='dimgray', linestyle='--')\n",
    "plt.xlabel(\"Year\")\n",
    "plt.ylabel(\"Delta Temperature (C)\")\n",
    "plt.title(\"Temperature Change from 1951 - Des Moines\")\n",
    "print(f\"r-squared =: {rvalue}\")\n",
    "#plt.savefig(\"Images/DesMoinesScatterPlot.png\")\n",
    "\n",
    "plt.show()"
   ]
  },
  {
   "cell_type": "code",
   "execution_count": 55,
   "metadata": {
    "scrolled": true
   },
   "outputs": [
    {
     "name": "stdout",
     "output_type": "stream",
     "text": [
      "r-squared =: 0.4572224634898301\n"
     ]
    },
    {
     "data": {
      "image/png": "[encoded data removed]",
      "text/plain": [
       "<Figure size 432x288 with 1 Axes>"
      ]
     },
     "metadata": {
      "needs_background": "light"
     },
     "output_type": "display_data"
    }
   ],
   "source": [
    "y_values = deltaTemp_df[\"COLUMBUS\"]\n",
    "\n",
    "(slope, intercept, rvalue, pvalue, stderr) = linregress(x_values, y_values)\n",
    "regress_values = x_values * slope + intercept\n",
    "line_eq = \"y = \" + str(round(slope,2)) + \"x + \" + str(round(intercept,2))\n",
    "plt.scatter(x_values,y_values, edgecolors = \"black\", facecolors = \"skyblue\")\n",
    "plt.plot(x_values,regress_values,\"r-\")\n",
    "plt.annotate(line_eq,(1985,2),fontsize=10,color=\"red\")\n",
    "#print(line_eq)\n",
    "plt.axhline(linewidth=0.5, color='dimgray', linestyle='--')\n",
    "plt.xlabel(\"Year\")\n",
    "plt.ylabel(\"Delta Temperature (C)\")\n",
    "plt.title(\"Temperature Change from 1951 - Columbus\")\n",
    "print(f\"r-squared =: {rvalue}\")\n",
    "plt.savefig(\"Images/ColumbusScatterPlot.png\")\n",
    "\n",
    "plt.show()"
   ]
  },
  {
   "cell_type": "code",
   "execution_count": 33,
   "metadata": {},
   "outputs": [
    {
     "name": "stdout",
     "output_type": "stream",
     "text": [
      "r-squared =: 0.67212017374441\n"
     ]
    },
    {
     "data": {
      "image/png": "[encoded data removed]",
      "text/plain": [
       "<Figure size 432x288 with 1 Axes>"
      ]
     },
     "metadata": {
      "needs_background": "light"
     },
     "output_type": "display_data"
    }
   ],
   "source": [
    "y_values = deltaTemp_df[\"MIAMI\"]\n",
    "\n",
    "(slope, intercept, rvalue, pvalue, stderr) = linregress(x_values, y_values)\n",
    "regress_values = x_values * slope + intercept\n",
    "line_eq = \"y = \" + str(round(slope,2)) + \"x + \" + str(round(intercept,2))\n",
    "plt.scatter(x_values,y_values, edgecolors = \"black\", facecolors = \"skyblue\")\n",
    "plt.plot(x_values,regress_values,\"r-\")\n",
    "plt.annotate(line_eq,(1985,-1),fontsize=10,color=\"red\")\n",
    "#print(line_eq)\n",
    "plt.axhline(linewidth=0.5, color='dimgray', linestyle='--')\n",
    "plt.xlabel(\"Year\")\n",
    "plt.ylabel(\"Delta Temperature (C)\")\n",
    "plt.title(\"Temperature Change from 1951 - Miami\")\n",
    "print(f\"r-squared =: {rvalue}\")\n",
    "#plt.savefig(\"Images/MiamiScatterPlot.png\")\n",
    "\n",
    "plt.show()"
   ]
  },
  {
   "cell_type": "code",
   "execution_count": 34,
   "metadata": {},
   "outputs": [
    {
     "name": "stdout",
     "output_type": "stream",
     "text": [
      "r-squared =: 0.2947985853234423\n"
     ]
    },
    {
     "data": {
      "image/png": "[encoded data removed]",
      "text/plain": [
       "<Figure size 432x288 with 1 Axes>"
      ]
     },
     "metadata": {
      "needs_background": "light"
     },
     "output_type": "display_data"
    }
   ],
   "source": [
    "y_values = deltaTemp_df[\"ST. PAUL\"]\n",
    "\n",
    "(slope, intercept, rvalue, pvalue, stderr) = linregress(x_values, y_values)\n",
    "regress_values = x_values * slope + intercept\n",
    "line_eq = \"y = \" + str(round(slope,2)) + \"x + \" + str(round(intercept,2))\n",
    "plt.scatter(x_values,y_values, edgecolors = \"black\", facecolors = \"skyblue\")\n",
    "plt.plot(x_values,regress_values,\"r-\")\n",
    "plt.annotate(line_eq,(1985,-1),fontsize=10,color=\"red\")\n",
    "#print(line_eq)\n",
    "plt.axhline(linewidth=0.5, color='dimgray', linestyle='--')\n",
    "plt.xlabel(\"Year\")\n",
    "plt.ylabel(\"Delta Temperature (C)\")\n",
    "plt.title(\"Temperature Change from 1951 - St Paul Island, Alaska\")\n",
    "print(f\"r-squared =: {rvalue}\")\n",
    "#plt.savefig(\"Images/StPaulIslandScatterPlot.png\")\n",
    "\n",
    "plt.show()"
   ]
  },
  {
   "cell_type": "code",
   "execution_count": 35,
   "metadata": {
    "scrolled": true
   },
   "outputs": [
    {
     "name": "stdout",
     "output_type": "stream",
     "text": [
      "r-squared =: 0.6130049974980046\n"
     ]
    },
    {
     "data": {
      "image/png": "[encoded data removed]",
      "text/plain": [
       "<Figure size 432x288 with 1 Axes>"
      ]
     },
     "metadata": {
      "needs_background": "light"
     },
     "output_type": "display_data"
    }
   ],
   "source": [
    "y_values = deltaTemp_df[\"SALT LAKE CITY\"]\n",
    "\n",
    "(slope, intercept, rvalue, pvalue, stderr) = linregress(x_values, y_values)\n",
    "regress_values = x_values * slope + intercept\n",
    "line_eq = \"y = \" + str(round(slope,2)) + \"x + \" + str(round(intercept,2))\n",
    "plt.scatter(x_values,y_values, edgecolors = \"black\", facecolors = \"skyblue\")\n",
    "plt.plot(x_values,regress_values,\"r-\")\n",
    "plt.annotate(line_eq,(1985,-1),fontsize=10,color=\"red\")\n",
    "#print(line_eq)\n",
    "plt.axhline(linewidth=0.5, color='dimgray', linestyle='--')\n",
    "plt.xlabel(\"Year\")\n",
    "plt.ylabel(\"Delta Temperature (C)\")\n",
    "plt.title(\"Temperature Change from 1951 - Salt Lake City\")\n",
    "print(f\"r-squared =: {rvalue}\")\n",
    "#plt.savefig(\"Images/SLCityScatterPlot.png\")\n",
    "\n",
    "plt.show()"
   ]
  },
  {
   "cell_type": "code",
   "execution_count": null,
   "metadata": {},
   "outputs": [],
   "source": []
  }
 ],
 "metadata": {
  "kernelspec": {
   "display_name": "Python 3.7.4 64-bit ('PythonData': conda)",
   "language": "python",
   "name": "python37464bitpythondataconda89d8a75d87334d9391e968c1e590e55a"
  },
  "language_info": {
   "codemirror_mode": {
    "name": "ipython",
    "version": 3
   },
   "file_extension": ".py",
   "mimetype": "text/x-python",
   "name": "python",
   "nbconvert_exporter": "python",
   "pygments_lexer": "ipython3",
   "version": "3.7.4"
  },
  "latex_envs": {
   "LaTeX_envs_menu_present": true,
   "autoclose": false,
   "autocomplete": true,
   "bibliofile": "biblio.bib",
   "cite_by": "apalike",
   "current_citInitial": 1,
   "eqLabelWithNumbers": true,
   "eqNumInitial": 1,
   "hotkeys": {
    "equation": "Ctrl-E",
    "itemize": "Ctrl-I"
   },
   "labels_anchors": false,
   "latex_user_defs": false,
   "report_style_numbering": false,
   "user_envs_cfg": false
  }
 },
 "nbformat": 4,
 "nbformat_minor": 2
}
