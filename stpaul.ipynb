{
 "cells": [
  {
   "cell_type": "code",
   "execution_count": 331,
   "metadata": {},
   "outputs": [],
   "source": [
    "import pandas as pd\n",
    "import numpy as np"
   ]
  },
  {
   "cell_type": "code",
   "execution_count": 332,
   "metadata": {},
   "outputs": [],
   "source": [
    "file = 'weather_csv/stPaulIsland.csv'"
   ]
  },
  {
   "cell_type": "code",
   "execution_count": 333,
   "metadata": {},
   "outputs": [
    {
     "data": {
      "text/html": "<div>\n<style scoped>\n    .dataframe tbody tr th:only-of-type {\n        vertical-align: middle;\n    }\n\n    .dataframe tbody tr th {\n        vertical-align: top;\n    }\n\n    .dataframe thead th {\n        text-align: right;\n    }\n</style>\n<table border=\"1\" class=\"dataframe\">\n  <thead>\n    <tr style=\"text-align: right;\">\n      <th></th>\n      <th>month</th>\n      <th>mean</th>\n    </tr>\n  </thead>\n  <tbody>\n    <tr>\n      <th>0</th>\n      <td>1951-01</td>\n      <td>-4.3</td>\n    </tr>\n    <tr>\n      <th>1</th>\n      <td>1951-02</td>\n      <td>-1.2</td>\n    </tr>\n    <tr>\n      <th>2</th>\n      <td>1951-03</td>\n      <td>-4.5</td>\n    </tr>\n    <tr>\n      <th>3</th>\n      <td>1951-05</td>\n      <td>3.7</td>\n    </tr>\n    <tr>\n      <th>4</th>\n      <td>1951-06</td>\n      <td>6.4</td>\n    </tr>\n    <tr>\n      <th>...</th>\n      <td>...</td>\n      <td>...</td>\n    </tr>\n    <tr>\n      <th>791</th>\n      <td>2017-08</td>\n      <td>9.8</td>\n    </tr>\n    <tr>\n      <th>792</th>\n      <td>2017-09</td>\n      <td>7.7</td>\n    </tr>\n    <tr>\n      <th>793</th>\n      <td>2017-10</td>\n      <td>4.6</td>\n    </tr>\n    <tr>\n      <th>794</th>\n      <td>2017-11</td>\n      <td>4.1</td>\n    </tr>\n    <tr>\n      <th>795</th>\n      <td>2017-12</td>\n      <td>-0.1</td>\n    </tr>\n  </tbody>\n</table>\n<p>796 rows × 2 columns</p>\n</div>",
      "text/plain": "       month  mean\n0    1951-01  -4.3\n1    1951-02  -1.2\n2    1951-03  -4.5\n3    1951-05   3.7\n4    1951-06   6.4\n..       ...   ...\n791  2017-08   9.8\n792  2017-09   7.7\n793  2017-10   4.6\n794  2017-11   4.1\n795  2017-12  -0.1\n\n[796 rows x 2 columns]"
     },
     "execution_count": 333,
     "metadata": {},
     "output_type": "execute_result"
    }
   ],
   "source": [
    "stpaul = pd.read_csv(file)\n",
    "stpaul"
   ]
  },
  {
   "cell_type": "code",
   "execution_count": 334,
   "metadata": {},
   "outputs": [],
   "source": [
    "#CONVERTING MONTH COLUMN INTO A LIST TO SPLIT YEAR FROM MONTH"
   ]
  },
  {
   "cell_type": "code",
   "execution_count": 335,
   "metadata": {},
   "outputs": [
    {
     "data": {
      "text/plain": "['1951-01',\n '1951-02',\n '1951-03',\n '1951-05',\n '1951-06',\n '1951-08',\n '1951-09',\n '1951-10',\n '1951-11',\n '1951-12',\n '1952-01',\n '1952-02',\n '1952-03',\n '1952-04',\n '1952-05',\n '1952-06',\n '1952-07',\n '1952-08',\n '1952-09',\n '1952-10',\n '1952-11',\n '1952-12',\n '1953-01',\n '1953-02',\n '1953-03',\n '1953-04',\n '1953-05',\n '1953-06',\n '1953-07',\n '1953-08',\n '1953-09',\n '1953-10',\n '1953-11',\n '1953-12',\n '1954-01',\n '1954-02',\n '1954-03',\n '1954-04',\n '1954-05',\n '1954-06',\n '1954-07',\n '1954-08',\n '1954-09',\n '1954-10',\n '1954-11',\n '1954-12',\n '1955-01',\n '1955-02',\n '1955-03',\n '1955-04',\n '1955-05',\n '1955-06',\n '1955-07',\n '1955-08',\n '1955-09',\n '1955-10',\n '1955-11',\n '1955-12',\n '1956-01',\n '1956-02',\n '1956-03',\n '1956-04',\n '1956-05',\n '1956-06',\n '1956-07',\n '1956-08',\n '1956-09',\n '1956-10',\n '1956-11',\n '1956-12',\n '1957-01',\n '1957-02',\n '1957-03',\n '1957-04',\n '1957-05',\n '1957-06',\n '1957-07',\n '1957-08',\n '1957-09',\n '1957-10',\n '1957-11',\n '1957-12',\n '1958-01',\n '1958-02',\n '1958-03',\n '1958-04',\n '1958-05',\n '1958-06',\n '1958-07',\n '1958-08',\n '1958-09',\n '1958-10',\n '1958-11',\n '1958-12',\n '1959-01',\n '1959-02',\n '1959-03',\n '1959-04',\n '1959-05',\n '1959-06',\n '1959-07',\n '1959-08',\n '1959-09',\n '1959-10',\n '1959-11',\n '1959-12',\n '1960-01',\n '1960-02',\n '1960-03',\n '1960-04',\n '1960-05',\n '1960-06',\n '1960-07',\n '1960-08',\n '1960-09',\n '1960-10',\n '1960-11',\n '1960-12',\n '1961-01',\n '1961-02',\n '1961-03',\n '1961-04',\n '1961-05',\n '1961-06',\n '1961-07',\n '1961-08',\n '1961-09',\n '1961-10',\n '1961-11',\n '1961-12',\n '1962-01',\n '1962-02',\n '1962-03',\n '1962-04',\n '1962-05',\n '1962-06',\n '1962-07',\n '1962-08',\n '1962-09',\n '1962-10',\n '1962-11',\n '1962-12',\n '1963-01',\n '1963-02',\n '1963-03',\n '1963-04',\n '1963-05',\n '1963-06',\n '1963-07',\n '1963-08',\n '1963-09',\n '1963-10',\n '1963-11',\n '1963-12',\n '1964-01',\n '1964-02',\n '1964-03',\n '1964-04',\n '1964-05',\n '1964-06',\n '1964-07',\n '1964-08',\n '1964-09',\n '1964-10',\n '1964-11',\n '1964-12',\n '1965-01',\n '1965-02',\n '1965-03',\n '1965-04',\n '1965-05',\n '1965-06',\n '1965-07',\n '1965-08',\n '1965-09',\n '1965-10',\n '1965-11',\n '1965-12',\n '1966-01',\n '1966-02',\n '1966-03',\n '1966-04',\n '1966-05',\n '1966-06',\n '1966-07',\n '1966-08',\n '1966-09',\n '1966-10',\n '1966-11',\n '1966-12',\n '1967-01',\n '1967-02',\n '1967-03',\n '1967-04',\n '1967-05',\n '1967-06',\n '1967-07',\n '1967-08',\n '1967-09',\n '1967-10',\n '1967-11',\n '1967-12',\n '1968-01',\n '1968-02',\n '1968-03',\n '1968-04',\n '1968-05',\n '1968-06',\n '1968-07',\n '1968-08',\n '1968-09',\n '1968-10',\n '1968-11',\n '1968-12',\n '1969-01',\n '1969-02',\n '1969-03',\n '1969-04',\n '1969-05',\n '1969-06',\n '1969-07',\n '1969-08',\n '1969-09',\n '1969-10',\n '1969-11',\n '1969-12',\n '1970-01',\n '1970-02',\n '1970-03',\n '1970-04',\n '1970-05',\n '1970-06',\n '1970-07',\n '1970-08',\n '1970-09',\n '1970-10',\n '1970-11',\n '1970-12',\n '1971-01',\n '1971-02',\n '1971-03',\n '1971-04',\n '1971-05',\n '1971-06',\n '1971-07',\n '1971-08',\n '1971-09',\n '1971-10',\n '1971-11',\n '1971-12',\n '1972-02',\n '1972-03',\n '1972-04',\n '1972-05',\n '1972-06',\n '1972-07',\n '1972-08',\n '1972-09',\n '1972-10',\n '1972-12',\n '1973-01',\n '1973-02',\n '1973-03',\n '1973-05',\n '1973-06',\n '1973-07',\n '1973-08',\n '1973-09',\n '1973-10',\n '1973-11',\n '1973-12',\n '1974-01',\n '1974-02',\n '1974-03',\n '1974-04',\n '1974-05',\n '1974-06',\n '1974-07',\n '1974-08',\n '1974-09',\n '1974-10',\n '1974-11',\n '1974-12',\n '1975-01',\n '1975-02',\n '1975-03',\n '1975-04',\n '1975-05',\n '1975-06',\n '1975-07',\n '1975-11',\n '1975-12',\n '1976-02',\n '1976-03',\n '1976-09',\n '1976-12',\n '1977-02',\n '1977-03',\n '1977-07',\n '1977-08',\n '1977-09',\n '1977-10',\n '1977-11',\n '1978-01',\n '1978-02',\n '1978-03',\n '1978-04',\n '1978-06',\n '1978-10',\n '1978-11',\n '1978-12',\n '1979-01',\n '1979-02',\n '1979-03',\n '1979-04',\n '1979-05',\n '1979-06',\n '1979-07',\n '1979-08',\n '1979-09',\n '1979-10',\n '1979-11',\n '1979-12',\n '1980-01',\n '1980-02',\n '1980-04',\n '1980-05',\n '1980-06',\n '1980-07',\n '1980-08',\n '1980-09',\n '1980-10',\n '1980-11',\n '1980-12',\n '1981-01',\n '1981-02',\n '1981-03',\n '1981-04',\n '1981-05',\n '1981-06',\n '1981-07',\n '1981-08',\n '1981-10',\n '1981-11',\n '1981-12',\n '1982-01',\n '1982-02',\n '1982-03',\n '1982-04',\n '1982-05',\n '1982-06',\n '1982-07',\n '1982-08',\n '1982-09',\n '1982-10',\n '1982-11',\n '1982-12',\n '1983-01',\n '1983-02',\n '1983-03',\n '1981-10',\n '1981-11',\n '1981-12',\n '1982-01',\n '1982-02',\n '1982-03',\n '1982-04',\n '1982-05',\n '1982-06',\n '1982-07',\n '1982-08',\n '1982-09',\n '1982-10',\n '1982-11',\n '1982-12',\n '1983-01',\n '1983-02',\n '1983-03',\n '1983-04',\n '1983-05',\n '1983-06',\n '1983-07',\n '1983-08',\n '1983-09',\n '1983-10',\n '1983-11',\n '1983-12',\n '1984-01',\n '1984-02',\n '1984-03',\n '1984-04',\n '1984-05',\n '1984-06',\n '1984-09',\n '1984-10',\n '1984-11',\n '1984-12',\n '1985-01',\n '1985-02',\n '1985-03',\n '1985-04',\n '1985-05',\n '1985-06',\n '1985-07',\n '1985-08',\n '1985-09',\n '1985-10',\n '1985-11',\n '1985-12',\n '1986-01',\n '1986-02',\n '1986-03',\n '1986-04',\n '1986-05',\n '1986-06',\n '1986-07',\n '1986-08',\n '1986-09',\n '1986-10',\n '1986-11',\n '1986-12',\n '1987-01',\n '1987-02',\n '1987-03',\n '1987-04',\n '1987-05',\n '1987-06',\n '1987-07',\n '1987-08',\n '1987-09',\n '1987-10',\n '1987-11',\n '1987-12',\n '1988-01',\n '1988-02',\n '1988-03',\n '1988-04',\n '1988-05',\n '1988-06',\n '1988-07',\n '1988-08',\n '1988-09',\n '1988-10',\n '1988-11',\n '1988-12',\n '1989-01',\n '1989-02',\n '1989-03',\n '1989-04',\n '1989-05',\n '1989-06',\n '1989-07',\n '1989-08',\n '1989-09',\n '1989-10',\n '1989-11',\n '1989-12',\n '1990-01',\n '1990-02',\n '1990-03',\n '1990-04',\n '1990-05',\n '1990-06',\n '1990-07',\n '1990-08',\n '1990-09',\n '1990-10',\n '1990-11',\n '1990-12',\n '1991-01',\n '1991-02',\n '1991-03',\n '1991-04',\n '1991-05',\n '1991-06',\n '1991-07',\n '1991-08',\n '1991-09',\n '1991-10',\n '1991-11',\n '1991-12',\n '1992-01',\n '1992-02',\n '1992-03',\n '1992-04',\n '1992-05',\n '1992-06',\n '1992-07',\n '1992-08',\n '1992-09',\n '1992-10',\n '1992-11',\n '1992-12',\n '1993-01',\n '1993-02',\n '1993-03',\n '1993-04',\n '1993-05',\n '1993-06',\n '1993-07',\n '1993-08',\n '1993-09',\n '1993-10',\n '1993-11',\n '1993-12',\n '1994-01',\n '1994-02',\n '1994-03',\n '1994-04',\n '1994-05',\n '1994-06',\n '1994-07',\n '1994-08',\n '1994-09',\n '1994-10',\n '1994-11',\n '1994-12',\n '1995-01',\n '1995-02',\n '1995-03',\n '1995-04',\n '1995-05',\n '1995-06',\n '1995-07',\n '1995-08',\n '1995-09',\n '1995-10',\n '1995-11',\n '1995-12',\n '1996-01',\n '1996-02',\n '1996-03',\n '1996-04',\n '1996-05',\n '1996-06',\n '1996-07',\n '1996-08',\n '1996-09',\n '1996-10',\n '1996-11',\n '1996-12',\n '1997-01',\n '1997-02',\n '1997-03',\n '1997-04',\n '1997-05',\n '1997-06',\n '1997-07',\n '1997-08',\n '1997-09',\n '1997-10',\n '1997-11',\n '1997-12',\n '1998-01',\n '1998-02',\n '1998-03',\n '1998-04',\n '1998-05',\n '1998-06',\n '1998-07',\n '1998-08',\n '1998-09',\n '1998-10',\n '1998-11',\n '1998-12',\n '1999-01',\n '1999-02',\n '1999-03',\n '1999-04',\n '1999-05',\n '1999-06',\n '1999-07',\n '1999-08',\n '1999-09',\n '1999-10',\n '1999-11',\n '1999-12',\n '2000-01',\n '2000-02',\n '2000-03',\n '2000-04',\n '2000-05',\n '2000-06',\n '2000-07',\n '2000-08',\n '2000-09',\n '2000-10',\n '2000-11',\n '2000-12',\n '2001-01',\n '2001-02',\n '2001-03',\n '2001-04',\n '2001-05',\n '2001-06',\n '2001-07',\n '2001-08',\n '2001-09',\n '2001-10',\n '2001-11',\n '2001-12',\n '2002-01',\n '2002-02',\n '2002-03',\n '2002-04',\n '2002-05',\n '2002-06',\n '2002-07',\n '2002-08',\n '2002-09',\n '2002-10',\n '2002-11',\n '2002-12',\n '2003-01',\n '2003-02',\n '2003-03',\n '2003-04',\n '2003-05',\n '2003-06',\n '2003-07',\n '2003-08',\n '2003-09',\n '2003-10',\n '2003-11',\n '2003-12',\n '2004-01',\n '2004-02',\n '2004-03',\n '2004-04',\n '2004-05',\n '2004-06',\n '2004-07',\n '2004-08',\n '2004-09',\n '2004-10',\n '2004-11',\n '2004-12',\n '2005-01',\n '2005-02',\n '2005-03',\n '2005-04',\n '2005-05',\n '2005-06',\n '2005-07',\n '2005-08',\n '2005-09',\n '2005-10',\n '2005-11',\n '2005-12',\n '2006-01',\n '2006-02',\n '2006-03',\n '2006-04',\n '2006-05',\n '2006-06',\n '2006-07',\n '2006-08',\n '2006-09',\n '2006-10',\n '2006-11',\n '2006-12',\n '2007-01',\n '2007-02',\n '2007-03',\n '2007-04',\n '2007-05',\n '2007-06',\n '2007-07',\n '2007-08',\n '2007-09',\n '2007-10',\n '2007-11',\n '2007-12',\n '2008-01',\n '2008-02',\n '2008-03',\n '2008-04',\n '2008-05',\n '2008-06',\n '2008-07',\n '2008-08',\n '2008-09',\n '2008-10',\n '2008-11',\n '2008-12',\n '2009-01',\n '2009-02',\n '2009-03',\n '2009-04',\n '2009-05',\n '2009-06',\n '2009-07',\n '2009-08',\n '2009-09',\n '2009-10',\n '2009-11',\n '2009-12',\n '2010-01',\n '2010-02',\n '2010-03',\n '2010-04',\n '2010-05',\n '2010-06',\n '2010-07',\n '2010-08',\n '2010-09',\n '2010-10',\n '2010-11',\n '2010-12',\n '2011-01',\n '2011-02',\n '2011-03',\n '2011-04',\n '2011-05',\n '2011-06',\n '2011-07',\n '2011-08',\n '2011-09',\n '2011-10',\n '2011-11',\n '2011-09',\n '2011-10',\n '2011-11',\n '2011-12',\n '2012-01',\n '2012-02',\n '2012-03',\n '2012-04',\n '2012-05',\n '2012-06',\n '2012-07',\n '2012-08',\n '2012-09',\n '2012-10',\n '2012-11',\n '2012-12',\n '2013-01',\n '2013-02',\n '2013-03',\n '2013-04',\n '2013-05',\n '2013-06',\n '2013-07',\n '2013-08',\n '2013-09',\n '2013-10',\n '2013-11',\n '2013-12',\n '2014-01',\n '2014-02',\n '2014-03',\n '2014-04',\n '2014-05',\n '2014-06',\n '2014-07',\n '2014-08',\n '2014-09',\n '2014-10',\n '2014-11',\n '2014-12',\n '2015-01',\n '2015-02',\n '2015-03',\n '2015-04',\n '2015-05',\n '2015-06',\n '2015-07',\n '2015-08',\n '2015-09',\n '2015-10',\n '2015-11',\n '2015-12',\n '2016-01',\n '2016-02',\n '2016-03',\n '2016-04',\n '2016-05',\n '2016-06',\n '2016-07',\n '2016-08',\n '2016-09',\n '2016-10',\n '2016-11',\n '2016-12',\n '2017-01',\n '2017-02',\n '2017-03',\n '2017-04',\n '2017-05',\n '2017-06',\n '2017-07',\n '2017-08',\n '2017-09',\n '2017-10',\n '2017-11',\n '2017-12']"
     },
     "execution_count": 335,
     "metadata": {},
     "output_type": "execute_result"
    }
   ],
   "source": [
    "st = stpaul['month'].tolist()\n",
    "st"
   ]
  },
  {
   "cell_type": "code",
   "execution_count": 336,
   "metadata": {},
   "outputs": [],
   "source": [
    "month = []\n",
    "year = []\n",
    "for data in st:\n",
    "    y = data[0:4]\n",
    "    m = data[5:7]\n",
    "    year.append(y)\n",
    "    month.append(m)\n",
    "#print(year)\n",
    "#print(month)\n",
    "    "
   ]
  },
  {
   "cell_type": "code",
   "execution_count": 337,
   "metadata": {},
   "outputs": [
    {
     "data": {
      "text/html": "<div>\n<style scoped>\n    .dataframe tbody tr th:only-of-type {\n        vertical-align: middle;\n    }\n\n    .dataframe tbody tr th {\n        vertical-align: top;\n    }\n\n    .dataframe thead th {\n        text-align: right;\n    }\n</style>\n<table border=\"1\" class=\"dataframe\">\n  <thead>\n    <tr style=\"text-align: right;\">\n      <th></th>\n      <th>year</th>\n      <th>month</th>\n    </tr>\n  </thead>\n  <tbody>\n    <tr>\n      <th>0</th>\n      <td>1951</td>\n      <td>01</td>\n    </tr>\n    <tr>\n      <th>1</th>\n      <td>1951</td>\n      <td>02</td>\n    </tr>\n    <tr>\n      <th>2</th>\n      <td>1951</td>\n      <td>03</td>\n    </tr>\n    <tr>\n      <th>3</th>\n      <td>1951</td>\n      <td>05</td>\n    </tr>\n    <tr>\n      <th>4</th>\n      <td>1951</td>\n      <td>06</td>\n    </tr>\n    <tr>\n      <th>...</th>\n      <td>...</td>\n      <td>...</td>\n    </tr>\n    <tr>\n      <th>791</th>\n      <td>2017</td>\n      <td>08</td>\n    </tr>\n    <tr>\n      <th>792</th>\n      <td>2017</td>\n      <td>09</td>\n    </tr>\n    <tr>\n      <th>793</th>\n      <td>2017</td>\n      <td>10</td>\n    </tr>\n    <tr>\n      <th>794</th>\n      <td>2017</td>\n      <td>11</td>\n    </tr>\n    <tr>\n      <th>795</th>\n      <td>2017</td>\n      <td>12</td>\n    </tr>\n  </tbody>\n</table>\n<p>796 rows × 2 columns</p>\n</div>",
      "text/plain": "     year month\n0    1951    01\n1    1951    02\n2    1951    03\n3    1951    05\n4    1951    06\n..    ...   ...\n791  2017    08\n792  2017    09\n793  2017    10\n794  2017    11\n795  2017    12\n\n[796 rows x 2 columns]"
     },
     "execution_count": 337,
     "metadata": {},
     "output_type": "execute_result"
    }
   ],
   "source": [
    "time = pd.DataFrame({\"year\": year, \"month\":month})\n",
    "time"
   ]
  },
  {
   "cell_type": "code",
   "execution_count": 338,
   "metadata": {},
   "outputs": [],
   "source": [
    "mean = stpaul['mean']"
   ]
  },
  {
   "cell_type": "code",
   "execution_count": 339,
   "metadata": {},
   "outputs": [],
   "source": [
    "#MERGING THE CREATED YEAR AND MONTH COLUMN TO THE MEAN COLUMN"
   ]
  },
  {
   "cell_type": "code",
   "execution_count": 340,
   "metadata": {},
   "outputs": [
    {
     "data": {
      "text/html": "<div>\n<style scoped>\n    .dataframe tbody tr th:only-of-type {\n        vertical-align: middle;\n    }\n\n    .dataframe tbody tr th {\n        vertical-align: top;\n    }\n\n    .dataframe thead th {\n        text-align: right;\n    }\n</style>\n<table border=\"1\" class=\"dataframe\">\n  <thead>\n    <tr style=\"text-align: right;\">\n      <th></th>\n      <th>year</th>\n      <th>month</th>\n      <th>mean</th>\n    </tr>\n  </thead>\n  <tbody>\n    <tr>\n      <th>0</th>\n      <td>1951</td>\n      <td>01</td>\n      <td>-4.3</td>\n    </tr>\n    <tr>\n      <th>1</th>\n      <td>1951</td>\n      <td>02</td>\n      <td>-1.2</td>\n    </tr>\n    <tr>\n      <th>2</th>\n      <td>1951</td>\n      <td>03</td>\n      <td>-4.5</td>\n    </tr>\n    <tr>\n      <th>3</th>\n      <td>1951</td>\n      <td>05</td>\n      <td>3.7</td>\n    </tr>\n    <tr>\n      <th>4</th>\n      <td>1951</td>\n      <td>06</td>\n      <td>6.4</td>\n    </tr>\n    <tr>\n      <th>...</th>\n      <td>...</td>\n      <td>...</td>\n      <td>...</td>\n    </tr>\n    <tr>\n      <th>791</th>\n      <td>2017</td>\n      <td>08</td>\n      <td>9.8</td>\n    </tr>\n    <tr>\n      <th>792</th>\n      <td>2017</td>\n      <td>09</td>\n      <td>7.7</td>\n    </tr>\n    <tr>\n      <th>793</th>\n      <td>2017</td>\n      <td>10</td>\n      <td>4.6</td>\n    </tr>\n    <tr>\n      <th>794</th>\n      <td>2017</td>\n      <td>11</td>\n      <td>4.1</td>\n    </tr>\n    <tr>\n      <th>795</th>\n      <td>2017</td>\n      <td>12</td>\n      <td>-0.1</td>\n    </tr>\n  </tbody>\n</table>\n<p>796 rows × 3 columns</p>\n</div>",
      "text/plain": "     year month  mean\n0    1951    01  -4.3\n1    1951    02  -1.2\n2    1951    03  -4.5\n3    1951    05   3.7\n4    1951    06   6.4\n..    ...   ...   ...\n791  2017    08   9.8\n792  2017    09   7.7\n793  2017    10   4.6\n794  2017    11   4.1\n795  2017    12  -0.1\n\n[796 rows x 3 columns]"
     },
     "execution_count": 340,
     "metadata": {},
     "output_type": "execute_result"
    }
   ],
   "source": [
    "merge_df = time.merge(mean,left_index=True, right_index=True)\n",
    "merge_df"
   ]
  },
  {
   "cell_type": "code",
   "execution_count": 341,
   "metadata": {},
   "outputs": [
    {
     "data": {
      "text/html": "<div>\n<style scoped>\n    .dataframe tbody tr th:only-of-type {\n        vertical-align: middle;\n    }\n\n    .dataframe tbody tr th {\n        vertical-align: top;\n    }\n\n    .dataframe thead th {\n        text-align: right;\n    }\n</style>\n<table border=\"1\" class=\"dataframe\">\n  <thead>\n    <tr style=\"text-align: right;\">\n      <th></th>\n      <th>year</th>\n      <th>month</th>\n      <th>mean</th>\n    </tr>\n  </thead>\n  <tbody>\n    <tr>\n      <th>0</th>\n      <td>1951</td>\n      <td>01</td>\n      <td>-4.3</td>\n    </tr>\n    <tr>\n      <th>1</th>\n      <td>1951</td>\n      <td>02</td>\n      <td>-1.2</td>\n    </tr>\n    <tr>\n      <th>2</th>\n      <td>1951</td>\n      <td>03</td>\n      <td>-4.5</td>\n    </tr>\n    <tr>\n      <th>3</th>\n      <td>1951</td>\n      <td>05</td>\n      <td>3.7</td>\n    </tr>\n    <tr>\n      <th>4</th>\n      <td>1951</td>\n      <td>06</td>\n      <td>6.4</td>\n    </tr>\n    <tr>\n      <th>...</th>\n      <td>...</td>\n      <td>...</td>\n      <td>...</td>\n    </tr>\n    <tr>\n      <th>791</th>\n      <td>2017</td>\n      <td>08</td>\n      <td>9.8</td>\n    </tr>\n    <tr>\n      <th>792</th>\n      <td>2017</td>\n      <td>09</td>\n      <td>7.7</td>\n    </tr>\n    <tr>\n      <th>793</th>\n      <td>2017</td>\n      <td>10</td>\n      <td>4.6</td>\n    </tr>\n    <tr>\n      <th>794</th>\n      <td>2017</td>\n      <td>11</td>\n      <td>4.1</td>\n    </tr>\n    <tr>\n      <th>795</th>\n      <td>2017</td>\n      <td>12</td>\n      <td>-0.1</td>\n    </tr>\n  </tbody>\n</table>\n<p>796 rows × 3 columns</p>\n</div>",
      "text/plain": "     year month  mean\n0    1951    01  -4.3\n1    1951    02  -1.2\n2    1951    03  -4.5\n3    1951    05   3.7\n4    1951    06   6.4\n..    ...   ...   ...\n791  2017    08   9.8\n792  2017    09   7.7\n793  2017    10   4.6\n794  2017    11   4.1\n795  2017    12  -0.1\n\n[796 rows x 3 columns]"
     },
     "execution_count": 341,
     "metadata": {},
     "output_type": "execute_result"
    }
   ],
   "source": [
    "merge_df['mean'] = merge_df['mean'].replace(np.nan,0)\n",
    "merge_df"
   ]
  },
  {
   "cell_type": "code",
   "execution_count": 342,
   "metadata": {},
   "outputs": [
    {
     "data": {
      "text/html": "<div>\n<style scoped>\n    .dataframe tbody tr th:only-of-type {\n        vertical-align: middle;\n    }\n\n    .dataframe tbody tr th {\n        vertical-align: top;\n    }\n\n    .dataframe thead th {\n        text-align: right;\n    }\n</style>\n<table border=\"1\" class=\"dataframe\">\n  <thead>\n    <tr style=\"text-align: right;\">\n      <th></th>\n      <th>month</th>\n      <th>mean</th>\n    </tr>\n    <tr>\n      <th>year</th>\n      <th></th>\n      <th></th>\n    </tr>\n  </thead>\n  <tbody>\n    <tr>\n      <th>1951</th>\n      <td>01</td>\n      <td>-4.3</td>\n    </tr>\n    <tr>\n      <th>1951</th>\n      <td>02</td>\n      <td>-1.2</td>\n    </tr>\n    <tr>\n      <th>1951</th>\n      <td>03</td>\n      <td>-4.5</td>\n    </tr>\n    <tr>\n      <th>1951</th>\n      <td>05</td>\n      <td>3.7</td>\n    </tr>\n    <tr>\n      <th>1951</th>\n      <td>06</td>\n      <td>6.4</td>\n    </tr>\n    <tr>\n      <th>1951</th>\n      <td>08</td>\n      <td>9.4</td>\n    </tr>\n    <tr>\n      <th>1951</th>\n      <td>09</td>\n      <td>6.9</td>\n    </tr>\n    <tr>\n      <th>1951</th>\n      <td>10</td>\n      <td>3.0</td>\n    </tr>\n    <tr>\n      <th>1951</th>\n      <td>11</td>\n      <td>1.4</td>\n    </tr>\n    <tr>\n      <th>1951</th>\n      <td>12</td>\n      <td>-0.2</td>\n    </tr>\n    <tr>\n      <th>1952</th>\n      <td>01</td>\n      <td>-0.1</td>\n    </tr>\n    <tr>\n      <th>1952</th>\n      <td>02</td>\n      <td>-0.2</td>\n    </tr>\n    <tr>\n      <th>1952</th>\n      <td>03</td>\n      <td>-2.9</td>\n    </tr>\n    <tr>\n      <th>1952</th>\n      <td>04</td>\n      <td>-3.0</td>\n    </tr>\n    <tr>\n      <th>1952</th>\n      <td>05</td>\n      <td>2.0</td>\n    </tr>\n    <tr>\n      <th>1952</th>\n      <td>06</td>\n      <td>4.2</td>\n    </tr>\n    <tr>\n      <th>1952</th>\n      <td>07</td>\n      <td>6.7</td>\n    </tr>\n    <tr>\n      <th>1952</th>\n      <td>08</td>\n      <td>7.9</td>\n    </tr>\n    <tr>\n      <th>1952</th>\n      <td>09</td>\n      <td>6.8</td>\n    </tr>\n    <tr>\n      <th>1952</th>\n      <td>10</td>\n      <td>4.3</td>\n    </tr>\n    <tr>\n      <th>1952</th>\n      <td>11</td>\n      <td>1.7</td>\n    </tr>\n    <tr>\n      <th>1952</th>\n      <td>12</td>\n      <td>-2.9</td>\n    </tr>\n    <tr>\n      <th>1953</th>\n      <td>01</td>\n      <td>-4.3</td>\n    </tr>\n    <tr>\n      <th>1953</th>\n      <td>02</td>\n      <td>-7.3</td>\n    </tr>\n  </tbody>\n</table>\n</div>",
      "text/plain": "     month  mean\nyear            \n1951    01  -4.3\n1951    02  -1.2\n1951    03  -4.5\n1951    05   3.7\n1951    06   6.4\n1951    08   9.4\n1951    09   6.9\n1951    10   3.0\n1951    11   1.4\n1951    12  -0.2\n1952    01  -0.1\n1952    02  -0.2\n1952    03  -2.9\n1952    04  -3.0\n1952    05   2.0\n1952    06   4.2\n1952    07   6.7\n1952    08   7.9\n1952    09   6.8\n1952    10   4.3\n1952    11   1.7\n1952    12  -2.9\n1953    01  -4.3\n1953    02  -7.3"
     },
     "execution_count": 342,
     "metadata": {},
     "output_type": "execute_result"
    }
   ],
   "source": [
    "final_merge = merge_df.set_index([\"year\"])\n",
    "final_merge.head(24)"
   ]
  },
  {
   "cell_type": "code",
   "execution_count": 343,
   "metadata": {},
   "outputs": [
    {
     "data": {
      "text/html": "<div>\n<style scoped>\n    .dataframe tbody tr th:only-of-type {\n        vertical-align: middle;\n    }\n\n    .dataframe tbody tr th {\n        vertical-align: top;\n    }\n\n    .dataframe thead th {\n        text-align: right;\n    }\n</style>\n<table border=\"1\" class=\"dataframe\">\n  <thead>\n    <tr style=\"text-align: right;\">\n      <th></th>\n      <th>month</th>\n      <th>mean</th>\n    </tr>\n    <tr>\n      <th>year</th>\n      <th></th>\n      <th></th>\n    </tr>\n  </thead>\n  <tbody>\n    <tr>\n      <th>1951</th>\n      <td>01</td>\n      <td>-4.3</td>\n    </tr>\n    <tr>\n      <th>1951</th>\n      <td>02</td>\n      <td>-1.2</td>\n    </tr>\n    <tr>\n      <th>1951</th>\n      <td>03</td>\n      <td>-4.5</td>\n    </tr>\n    <tr>\n      <th>1951</th>\n      <td>05</td>\n      <td>3.7</td>\n    </tr>\n    <tr>\n      <th>1951</th>\n      <td>06</td>\n      <td>6.4</td>\n    </tr>\n    <tr>\n      <th>1951</th>\n      <td>08</td>\n      <td>9.4</td>\n    </tr>\n    <tr>\n      <th>1951</th>\n      <td>09</td>\n      <td>6.9</td>\n    </tr>\n    <tr>\n      <th>1951</th>\n      <td>10</td>\n      <td>3.0</td>\n    </tr>\n    <tr>\n      <th>1951</th>\n      <td>11</td>\n      <td>1.4</td>\n    </tr>\n    <tr>\n      <th>1951</th>\n      <td>12</td>\n      <td>-0.2</td>\n    </tr>\n  </tbody>\n</table>\n</div>",
      "text/plain": "     month  mean\nyear            \n1951    01  -4.3\n1951    02  -1.2\n1951    03  -4.5\n1951    05   3.7\n1951    06   6.4\n1951    08   9.4\n1951    09   6.9\n1951    10   3.0\n1951    11   1.4\n1951    12  -0.2"
     },
     "execution_count": 343,
     "metadata": {},
     "output_type": "execute_result"
    }
   ],
   "source": [
    "y51 = final_merge.iloc[0:10,0:2]\n",
    "y51"
   ]
  },
  {
   "cell_type": "code",
   "execution_count": 344,
   "metadata": {},
   "outputs": [
    {
     "data": {
      "text/plain": "[-4.3, -1.2, -4.5, 3.7, 6.4, 9.4, 6.9, 3.0, 1.4, -0.2]"
     },
     "execution_count": 344,
     "metadata": {},
     "output_type": "execute_result"
    }
   ],
   "source": [
    "#MEAN VALUES FOR 1951\n",
    "y51_list = y51['mean'].tolist()\n",
    "y51_list"
   ]
  },
  {
   "cell_type": "code",
   "execution_count": 392,
   "metadata": {},
   "outputs": [
    {
     "data": {
      "text/plain": "1.4000000000000001"
     },
     "execution_count": 392,
     "metadata": {},
     "output_type": "execute_result"
    }
   ],
   "source": [
    "y51q1 = y51_list[0:3]\n",
    "y51q1_mean = sum(y51q1)/3\n",
    "y51q1_mean\n",
    "y51q2 = y51_list[3:5]\n",
    "y51q2_mean = sum(y51q2)/2\n",
    "y51q2_mean\n",
    "y51q3 = y51_list[5:7]\n",
    "y51q3_mean = sum(y51q3)/2\n",
    "y51q3_mean\n",
    "#y51q3 \n",
    "y51q4 = y51_list[7:11]\n",
    "y51q4_mean = sum(y51q4)/3\n",
    "y51q4_mean\n"
   ]
  },
  {
   "cell_type": "code",
   "execution_count": 349,
   "metadata": {},
   "outputs": [],
   "source": [
    "q51 = [y51q1_mean, y51q2_mean, y51q3_mean, y51q4_mean]"
   ]
  },
  {
   "cell_type": "code",
   "execution_count": 350,
   "metadata": {},
   "outputs": [
    {
     "data": {
      "text/html": "<div>\n<style scoped>\n    .dataframe tbody tr th:only-of-type {\n        vertical-align: middle;\n    }\n\n    .dataframe tbody tr th {\n        vertical-align: top;\n    }\n\n    .dataframe thead th {\n        text-align: right;\n    }\n</style>\n<table border=\"1\" class=\"dataframe\">\n  <thead>\n    <tr style=\"text-align: right;\">\n      <th></th>\n      <th>month</th>\n      <th>mean</th>\n    </tr>\n    <tr>\n      <th>year</th>\n      <th></th>\n      <th></th>\n    </tr>\n  </thead>\n  <tbody>\n    <tr>\n      <th>1952</th>\n      <td>01</td>\n      <td>-0.1</td>\n    </tr>\n    <tr>\n      <th>1952</th>\n      <td>02</td>\n      <td>-0.2</td>\n    </tr>\n    <tr>\n      <th>1952</th>\n      <td>03</td>\n      <td>-2.9</td>\n    </tr>\n    <tr>\n      <th>1952</th>\n      <td>04</td>\n      <td>-3.0</td>\n    </tr>\n    <tr>\n      <th>1952</th>\n      <td>05</td>\n      <td>2.0</td>\n    </tr>\n    <tr>\n      <th>1952</th>\n      <td>06</td>\n      <td>4.2</td>\n    </tr>\n    <tr>\n      <th>1952</th>\n      <td>07</td>\n      <td>6.7</td>\n    </tr>\n    <tr>\n      <th>1952</th>\n      <td>08</td>\n      <td>7.9</td>\n    </tr>\n    <tr>\n      <th>1952</th>\n      <td>09</td>\n      <td>6.8</td>\n    </tr>\n    <tr>\n      <th>1952</th>\n      <td>10</td>\n      <td>4.3</td>\n    </tr>\n    <tr>\n      <th>1952</th>\n      <td>11</td>\n      <td>1.7</td>\n    </tr>\n    <tr>\n      <th>1952</th>\n      <td>12</td>\n      <td>-2.9</td>\n    </tr>\n  </tbody>\n</table>\n</div>",
      "text/plain": "     month  mean\nyear            \n1952    01  -0.1\n1952    02  -0.2\n1952    03  -2.9\n1952    04  -3.0\n1952    05   2.0\n1952    06   4.2\n1952    07   6.7\n1952    08   7.9\n1952    09   6.8\n1952    10   4.3\n1952    11   1.7\n1952    12  -2.9"
     },
     "execution_count": 350,
     "metadata": {},
     "output_type": "execute_result"
    }
   ],
   "source": [
    "#MEAN VALUES FOR 1952\n",
    "y52 = final_merge.iloc[10:22,0:2]\n",
    "y52"
   ]
  },
  {
   "cell_type": "code",
   "execution_count": 351,
   "metadata": {},
   "outputs": [
    {
     "data": {
      "text/plain": "[-0.1, -0.2, -2.9, -3.0, 2.0, 4.2, 6.7, 7.9, 6.8, 4.3, 1.7, -2.9]"
     },
     "execution_count": 351,
     "metadata": {},
     "output_type": "execute_result"
    }
   ],
   "source": [
    "y52_list = y52['mean'].tolist()\n",
    "y52_list"
   ]
  },
  {
   "cell_type": "code",
   "execution_count": 352,
   "metadata": {},
   "outputs": [
    {
     "data": {
      "text/plain": "[-0.1, -0.2, -2.9]"
     },
     "execution_count": 352,
     "metadata": {},
     "output_type": "execute_result"
    }
   ],
   "source": [
    "y52q1 = y52_list[0:3]\n",
    "y52q1\n",
    "y52q2 = y52_list[3:6]\n",
    "y52q2\n",
    "y52q3 = y52_list[6:9]\n",
    "y52q3\n",
    "y52q4 = y52_list[9:12]\n",
    "y52q4"
   ]
  },
  {
   "cell_type": "code",
   "execution_count": 357,
   "metadata": {},
   "outputs": [
    {
     "name": "stdout",
     "output_type": "stream",
     "text": "-1.0666666666666667\n1.0666666666666667\n7.133333333333334\n1.0333333333333334\n"
    }
   ],
   "source": [
    "y52q1 = y52_list[0:3]\n",
    "y52q2 = y52_list[3:6]\n",
    "y52q3 = y52_list[6:9]\n",
    "y52q4 = y52_list[9:12]\n",
    "y52q1_mean = sum(y52q1)/3\n",
    "y52q2_mean = sum(y52q2)/3\n",
    "y52q3_mean = sum(y52q3)/3\n",
    "y52q4_mean = sum(y52q4)/3\n",
    "print(y52q1_mean)\n",
    "print(y52q2_mean)\n",
    "print(y52q3_mean)\n",
    "print(y52q4_mean)\n"
   ]
  },
  {
   "cell_type": "code",
   "execution_count": null,
   "metadata": {},
   "outputs": [],
   "source": []
  },
  {
   "cell_type": "code",
   "execution_count": 359,
   "metadata": {},
   "outputs": [
    {
     "data": {
      "text/html": "<div>\n<style scoped>\n    .dataframe tbody tr th:only-of-type {\n        vertical-align: middle;\n    }\n\n    .dataframe tbody tr th {\n        vertical-align: top;\n    }\n\n    .dataframe thead th {\n        text-align: right;\n    }\n</style>\n<table border=\"1\" class=\"dataframe\">\n  <thead>\n    <tr style=\"text-align: right;\">\n      <th></th>\n      <th>month</th>\n      <th>mean</th>\n    </tr>\n    <tr>\n      <th>year</th>\n      <th></th>\n      <th></th>\n    </tr>\n  </thead>\n  <tbody>\n    <tr>\n      <th>1953</th>\n      <td>01</td>\n      <td>-4.3</td>\n    </tr>\n    <tr>\n      <th>1953</th>\n      <td>02</td>\n      <td>-7.3</td>\n    </tr>\n    <tr>\n      <th>1953</th>\n      <td>03</td>\n      <td>-7.1</td>\n    </tr>\n    <tr>\n      <th>1953</th>\n      <td>04</td>\n      <td>-1.5</td>\n    </tr>\n    <tr>\n      <th>1953</th>\n      <td>05</td>\n      <td>1.9</td>\n    </tr>\n    <tr>\n      <th>1953</th>\n      <td>06</td>\n      <td>5.8</td>\n    </tr>\n    <tr>\n      <th>1953</th>\n      <td>07</td>\n      <td>9.7</td>\n    </tr>\n    <tr>\n      <th>1953</th>\n      <td>08</td>\n      <td>10.0</td>\n    </tr>\n    <tr>\n      <th>1953</th>\n      <td>09</td>\n      <td>7.2</td>\n    </tr>\n    <tr>\n      <th>1953</th>\n      <td>10</td>\n      <td>2.0</td>\n    </tr>\n    <tr>\n      <th>1953</th>\n      <td>11</td>\n      <td>0.7</td>\n    </tr>\n    <tr>\n      <th>1953</th>\n      <td>12</td>\n      <td>0.0</td>\n    </tr>\n  </tbody>\n</table>\n</div>",
      "text/plain": "     month  mean\nyear            \n1953    01  -4.3\n1953    02  -7.3\n1953    03  -7.1\n1953    04  -1.5\n1953    05   1.9\n1953    06   5.8\n1953    07   9.7\n1953    08  10.0\n1953    09   7.2\n1953    10   2.0\n1953    11   0.7\n1953    12   0.0"
     },
     "execution_count": 359,
     "metadata": {},
     "output_type": "execute_result"
    }
   ],
   "source": [
    "#MEAN VALUES FOR 1953\n",
    "y53 = final_merge.iloc[22:34,0:2]\n",
    "y53"
   ]
  },
  {
   "cell_type": "code",
   "execution_count": 360,
   "metadata": {},
   "outputs": [
    {
     "data": {
      "text/plain": "[-4.3, -7.3, -7.1, -1.5, 1.9, 5.8, 9.7, 10.0, 7.2, 2.0, 0.7, 0.0]"
     },
     "execution_count": 360,
     "metadata": {},
     "output_type": "execute_result"
    }
   ],
   "source": [
    "y53_list = y53['mean'].tolist()\n",
    "y53_list"
   ]
  },
  {
   "cell_type": "code",
   "execution_count": 361,
   "metadata": {},
   "outputs": [
    {
     "name": "stdout",
     "output_type": "stream",
     "text": "-6.233333333333333\n2.0666666666666664\n8.966666666666667\n1.35\n"
    }
   ],
   "source": [
    "y53q1 = y53_list[0:3]\n",
    "y53q2 = y53_list[3:6]\n",
    "y53q3 = y53_list[6:9]\n",
    "y53q4 = y53_list[9:11]\n",
    "y53q1_mean = sum(y53q1)/3\n",
    "y53q2_mean = sum(y53q2)/3\n",
    "y53q3_mean = sum(y53q3)/3\n",
    "y53q4_mean = sum(y53q4)/2\n",
    "print(y53q1_mean)\n",
    "print(y53q2_mean)\n",
    "print(y53q3_mean)\n",
    "print(y53q4_mean)"
   ]
  },
  {
   "cell_type": "code",
   "execution_count": null,
   "metadata": {},
   "outputs": [],
   "source": []
  },
  {
   "cell_type": "code",
   "execution_count": 362,
   "metadata": {},
   "outputs": [],
   "source": [
    "y54 = final_merge.iloc[34:46,0:2]\n",
    "#y54"
   ]
  },
  {
   "cell_type": "code",
   "execution_count": 363,
   "metadata": {},
   "outputs": [
    {
     "data": {
      "text/plain": "[-5.9, -13.1, -3.3, -1.9, 1.8, 4.4, 12.4, 8.4, 7.3, 2.3, 1.2, -3.6]"
     },
     "execution_count": 363,
     "metadata": {},
     "output_type": "execute_result"
    }
   ],
   "source": [
    "y54_list = y54['mean'].tolist()\n",
    "y54_list"
   ]
  },
  {
   "cell_type": "code",
   "execution_count": 364,
   "metadata": {},
   "outputs": [
    {
     "name": "stdout",
     "output_type": "stream",
     "text": "-7.433333333333334\n1.4333333333333336\n9.366666666666667\n1.75\n"
    }
   ],
   "source": [
    "y54q1 = y54_list[0:3]\n",
    "y54q2 = y54_list[3:6]\n",
    "y54q3 = y54_list[6:9]\n",
    "y54q4 = y54_list[9:11]\n",
    "y54q1_mean = sum(y54q1)/3\n",
    "y54q2_mean = sum(y54q2)/3\n",
    "y54q3_mean = sum(y54q3)/3\n",
    "y54q4_mean = sum(y54q4)/2\n",
    "print(y54q1_mean)\n",
    "print(y54q2_mean)\n",
    "print(y54q3_mean)\n",
    "print(y54q4_mean)"
   ]
  },
  {
   "cell_type": "code",
   "execution_count": 365,
   "metadata": {},
   "outputs": [
    {
     "data": {
      "text/html": "<div>\n<style scoped>\n    .dataframe tbody tr th:only-of-type {\n        vertical-align: middle;\n    }\n\n    .dataframe tbody tr th {\n        vertical-align: top;\n    }\n\n    .dataframe thead th {\n        text-align: right;\n    }\n</style>\n<table border=\"1\" class=\"dataframe\">\n  <thead>\n    <tr style=\"text-align: right;\">\n      <th></th>\n      <th>month</th>\n      <th>mean</th>\n    </tr>\n    <tr>\n      <th>year</th>\n      <th></th>\n      <th></th>\n    </tr>\n  </thead>\n  <tbody>\n    <tr>\n      <th>1955</th>\n      <td>01</td>\n      <td>-3.1</td>\n    </tr>\n    <tr>\n      <th>1955</th>\n      <td>02</td>\n      <td>-3.4</td>\n    </tr>\n    <tr>\n      <th>1955</th>\n      <td>03</td>\n      <td>-5.4</td>\n    </tr>\n    <tr>\n      <th>1955</th>\n      <td>04</td>\n      <td>-3.9</td>\n    </tr>\n    <tr>\n      <th>1955</th>\n      <td>05</td>\n      <td>0.4</td>\n    </tr>\n    <tr>\n      <th>1955</th>\n      <td>06</td>\n      <td>3.9</td>\n    </tr>\n    <tr>\n      <th>1955</th>\n      <td>07</td>\n      <td>7.2</td>\n    </tr>\n    <tr>\n      <th>1955</th>\n      <td>08</td>\n      <td>8.4</td>\n    </tr>\n    <tr>\n      <th>1955</th>\n      <td>09</td>\n      <td>0.0</td>\n    </tr>\n    <tr>\n      <th>1955</th>\n      <td>10</td>\n      <td>0.9</td>\n    </tr>\n    <tr>\n      <th>1955</th>\n      <td>11</td>\n      <td>1.1</td>\n    </tr>\n    <tr>\n      <th>1955</th>\n      <td>12</td>\n      <td>-1.1</td>\n    </tr>\n  </tbody>\n</table>\n</div>",
      "text/plain": "     month  mean\nyear            \n1955    01  -3.1\n1955    02  -3.4\n1955    03  -5.4\n1955    04  -3.9\n1955    05   0.4\n1955    06   3.9\n1955    07   7.2\n1955    08   8.4\n1955    09   0.0\n1955    10   0.9\n1955    11   1.1\n1955    12  -1.1"
     },
     "execution_count": 365,
     "metadata": {},
     "output_type": "execute_result"
    }
   ],
   "source": [
    "#MEAN FOR 1955\n",
    "y55 = final_merge.iloc[46:58,0:2]\n",
    "y55"
   ]
  },
  {
   "cell_type": "code",
   "execution_count": 366,
   "metadata": {},
   "outputs": [
    {
     "data": {
      "text/plain": "[-3.1, -3.4, -5.4, -3.9, 0.4, 3.9, 7.2, 8.4, 0.0, 0.9, 1.1, -1.1]"
     },
     "execution_count": 366,
     "metadata": {},
     "output_type": "execute_result"
    }
   ],
   "source": [
    "y55_list = y55['mean'].tolist()\n",
    "y55_list"
   ]
  },
  {
   "cell_type": "code",
   "execution_count": 367,
   "metadata": {},
   "outputs": [
    {
     "name": "stdout",
     "output_type": "stream",
     "text": "-3.966666666666667\n0.1333333333333333\n5.2\n0.44999999999999996\n"
    }
   ],
   "source": [
    "y55q1 = y55_list[0:3]\n",
    "y55q2 = y55_list[3:6]\n",
    "y55q3 = y55_list[6:8]\n",
    "y55q4 = y55_list[9:12]\n",
    "y55q1_mean = sum(y55q1)/3\n",
    "y55q2_mean = sum(y55q2)/3\n",
    "y55q3_mean = sum(y55q3)/3\n",
    "y55q4_mean = sum(y55q4)/2\n",
    "print(y55q1_mean)\n",
    "print(y55q2_mean)\n",
    "print(y55q3_mean)\n",
    "print(y55q4_mean)"
   ]
  },
  {
   "cell_type": "code",
   "execution_count": 368,
   "metadata": {},
   "outputs": [],
   "source": [
    "#MEAN FOR 1956\n",
    "y56 = final_merge.iloc[58:70,0:2]\n",
    "#y56"
   ]
  },
  {
   "cell_type": "code",
   "execution_count": 369,
   "metadata": {},
   "outputs": [
    {
     "data": {
      "text/plain": "[-5.6, -6.7, -7.8, -5.0, 0.6, 3.7, 6.7, 6.7, 7.1, 3.5, -1.5, -4.8]"
     },
     "execution_count": 369,
     "metadata": {},
     "output_type": "execute_result"
    }
   ],
   "source": [
    "y56_list = y56['mean'].tolist()\n",
    "y56_list"
   ]
  },
  {
   "cell_type": "code",
   "execution_count": 370,
   "metadata": {},
   "outputs": [
    {
     "name": "stdout",
     "output_type": "stream",
     "text": "-6.7\n-0.2333333333333334\n4.466666666666667\n-0.9333333333333332\n"
    }
   ],
   "source": [
    "y56q1 = y56_list[0:3]\n",
    "y56q2 = y56_list[3:6]\n",
    "y56q3 = y56_list[6:8]\n",
    "y56q4 = y56_list[9:12]\n",
    "y56q1_mean = sum(y56q1)/3\n",
    "y56q2_mean = sum(y56q2)/3\n",
    "y56q3_mean = sum(y56q3)/3\n",
    "y56q4_mean = sum(y56q4)/3\n",
    "print(y56q1_mean)\n",
    "print(y56q2_mean)\n",
    "print(y56q3_mean)\n",
    "print(y56q4_mean)"
   ]
  },
  {
   "cell_type": "code",
   "execution_count": 371,
   "metadata": {},
   "outputs": [],
   "source": [
    "#MEAN FOR 1957\n",
    "y57 = final_merge.iloc[70:82,0:2]\n",
    "#y57"
   ]
  },
  {
   "cell_type": "code",
   "execution_count": 372,
   "metadata": {},
   "outputs": [
    {
     "data": {
      "text/plain": "[-0.7, -4.7, -4.6, 0.3, 3.5, 6.5, 8.8, 9.9, 0.0, 4.8, 3.3, -3.1]"
     },
     "execution_count": 372,
     "metadata": {},
     "output_type": "execute_result"
    }
   ],
   "source": [
    "y57_list = y57['mean'].tolist()\n",
    "y57_list"
   ]
  },
  {
   "cell_type": "code",
   "execution_count": 373,
   "metadata": {},
   "outputs": [
    {
     "name": "stdout",
     "output_type": "stream",
     "text": "-3.3333333333333335\n3.4333333333333336\n6.233333333333334\n1.6666666666666667\n"
    }
   ],
   "source": [
    "y57q1 = y57_list[0:3]\n",
    "y57q2 = y57_list[3:6]\n",
    "y57q3 = y57_list[6:8]\n",
    "y57q4 = y57_list[9:12]\n",
    "y57q1_mean = sum(y57q1)/3\n",
    "y57q2_mean = sum(y57q2)/3\n",
    "y57q3_mean = sum(y57q3)/3\n",
    "y57q4_mean = sum(y57q4)/3\n",
    "print(y57q1_mean)\n",
    "print(y57q2_mean)\n",
    "print(y57q3_mean)\n",
    "print(y57q4_mean)"
   ]
  },
  {
   "cell_type": "code",
   "execution_count": 374,
   "metadata": {},
   "outputs": [],
   "source": [
    "#MEAN FOR 1958\n",
    "y58 = final_merge.iloc[82:94,0:2]\n",
    "#y58"
   ]
  },
  {
   "cell_type": "code",
   "execution_count": 375,
   "metadata": {},
   "outputs": [
    {
     "data": {
      "text/plain": "[-7.3, -5.5, -0.8, -0.2, 1.9, 5.9, 7.9, 8.7, 7.2, 3.8, 3.9, 0.1]"
     },
     "execution_count": 375,
     "metadata": {},
     "output_type": "execute_result"
    }
   ],
   "source": [
    "y58_list = y58['mean'].tolist()\n",
    "y58_list"
   ]
  },
  {
   "cell_type": "code",
   "execution_count": 376,
   "metadata": {},
   "outputs": [
    {
     "name": "stdout",
     "output_type": "stream",
     "text": "-4.533333333333334\n2.5333333333333337\n5.533333333333334\n2.5999999999999996\n"
    }
   ],
   "source": [
    "y58q1 = y58_list[0:3]\n",
    "y58q2 = y58_list[3:6]\n",
    "y58q3 = y58_list[6:8]\n",
    "y58q4 = y58_list[9:12]\n",
    "y58q1_mean = sum(y58q1)/3\n",
    "y58q2_mean = sum(y58q2)/3\n",
    "y58q3_mean = sum(y58q3)/3\n",
    "y58q4_mean = sum(y58q4)/3\n",
    "print(y58q1_mean)\n",
    "print(y58q2_mean)\n",
    "print(y58q3_mean)\n",
    "print(y58q4_mean)"
   ]
  },
  {
   "cell_type": "code",
   "execution_count": 377,
   "metadata": {},
   "outputs": [],
   "source": [
    "#MEAN FOR 1959\n",
    "y59 = final_merge.iloc[94:106,0:2]\n",
    "#y59"
   ]
  },
  {
   "cell_type": "code",
   "execution_count": 378,
   "metadata": {},
   "outputs": [
    {
     "data": {
      "text/plain": "[-1.1, -0.4, -7.3, -1.9, 1.8, 4.7, 7.2, 9.3, 7.3, 4.4, 1.7, -3.2]"
     },
     "execution_count": 378,
     "metadata": {},
     "output_type": "execute_result"
    }
   ],
   "source": [
    "y59_list = y59['mean'].tolist()\n",
    "y59_list"
   ]
  },
  {
   "cell_type": "code",
   "execution_count": 379,
   "metadata": {},
   "outputs": [
    {
     "name": "stdout",
     "output_type": "stream",
     "text": "-2.9333333333333336\n1.5333333333333334\n5.5\n0.9666666666666668\n"
    }
   ],
   "source": [
    "y59q1 = y59_list[0:3]\n",
    "y59q2 = y59_list[3:6]\n",
    "y59q3 = y59_list[6:8]\n",
    "y59q4 = y59_list[9:12]\n",
    "y59q1_mean = sum(y59q1)/3\n",
    "y59q2_mean = sum(y59q2)/3\n",
    "y59q3_mean = sum(y59q3)/3\n",
    "y59q4_mean = sum(y59q4)/3\n",
    "print(y59q1_mean)\n",
    "print(y59q2_mean)\n",
    "print(y59q3_mean)\n",
    "print(y59q4_mean)"
   ]
  },
  {
   "cell_type": "code",
   "execution_count": 384,
   "metadata": {},
   "outputs": [],
   "source": [
    "#MEAN FOR 1960\n",
    "y60 = final_merge.iloc[106:118,0:2]\n",
    "#y60"
   ]
  },
  {
   "cell_type": "code",
   "execution_count": 383,
   "metadata": {},
   "outputs": [
    {
     "data": {
      "text/plain": "[-2.2, -2.9, -4.0, -7.7, 1.1, 4.2, 8.1, 8.4, 6.4, 3.1, -0.6, -1.0]"
     },
     "execution_count": 383,
     "metadata": {},
     "output_type": "execute_result"
    }
   ],
   "source": [
    "y60_list = y60['mean'].tolist()\n",
    "y60_list"
   ]
  },
  {
   "cell_type": "code",
   "execution_count": 385,
   "metadata": {},
   "outputs": [
    {
     "name": "stdout",
     "output_type": "stream",
     "text": "-3.033333333333333\n-0.7999999999999998\n5.5\n0.5\n"
    }
   ],
   "source": [
    "y60q1 = y60_list[0:3]\n",
    "y60q2 = y60_list[3:6]\n",
    "y60q3 = y60_list[6:8]\n",
    "y60q4 = y60_list[9:12]\n",
    "y60q1_mean = sum(y60q1)/3\n",
    "y60q2_mean = sum(y60q2)/3\n",
    "y60q3_mean = sum(y60q3)/3\n",
    "y60q4_mean = sum(y60q4)/3\n",
    "print(y60q1_mean)\n",
    "print(y60q2_mean)\n",
    "print(y60q3_mean)\n",
    "print(y60q4_mean)"
   ]
  },
  {
   "cell_type": "code",
   "execution_count": 390,
   "metadata": {},
   "outputs": [
    {
     "data": {
      "text/html": "<div>\n<style scoped>\n    .dataframe tbody tr th:only-of-type {\n        vertical-align: middle;\n    }\n\n    .dataframe tbody tr th {\n        vertical-align: top;\n    }\n\n    .dataframe thead th {\n        text-align: right;\n    }\n</style>\n<table border=\"1\" class=\"dataframe\">\n  <thead>\n    <tr style=\"text-align: right;\">\n      <th></th>\n      <th>month</th>\n      <th>mean</th>\n    </tr>\n    <tr>\n      <th>year</th>\n      <th></th>\n      <th></th>\n    </tr>\n  </thead>\n  <tbody>\n    <tr>\n      <th>1961</th>\n      <td>01</td>\n      <td>-2.5</td>\n    </tr>\n    <tr>\n      <th>1961</th>\n      <td>02</td>\n      <td>-7.7</td>\n    </tr>\n    <tr>\n      <th>1961</th>\n      <td>03</td>\n      <td>-7.3</td>\n    </tr>\n    <tr>\n      <th>1961</th>\n      <td>04</td>\n      <td>-2.0</td>\n    </tr>\n    <tr>\n      <th>1961</th>\n      <td>05</td>\n      <td>2.8</td>\n    </tr>\n    <tr>\n      <th>1961</th>\n      <td>06</td>\n      <td>5.2</td>\n    </tr>\n    <tr>\n      <th>1961</th>\n      <td>07</td>\n      <td>7.2</td>\n    </tr>\n    <tr>\n      <th>1961</th>\n      <td>08</td>\n      <td>8.1</td>\n    </tr>\n    <tr>\n      <th>1961</th>\n      <td>09</td>\n      <td>7.2</td>\n    </tr>\n    <tr>\n      <th>1961</th>\n      <td>10</td>\n      <td>3.3</td>\n    </tr>\n    <tr>\n      <th>1961</th>\n      <td>11</td>\n      <td>1.1</td>\n    </tr>\n    <tr>\n      <th>1961</th>\n      <td>12</td>\n      <td>-5.6</td>\n    </tr>\n  </tbody>\n</table>\n</div>",
      "text/plain": "     month  mean\nyear            \n1961    01  -2.5\n1961    02  -7.7\n1961    03  -7.3\n1961    04  -2.0\n1961    05   2.8\n1961    06   5.2\n1961    07   7.2\n1961    08   8.1\n1961    09   7.2\n1961    10   3.3\n1961    11   1.1\n1961    12  -5.6"
     },
     "execution_count": 390,
     "metadata": {},
     "output_type": "execute_result"
    }
   ],
   "source": [
    "#MEAN FOR 1961\n",
    "y61 = final_merge.iloc[118:130,0:2]\n",
    "y61"
   ]
  },
  {
   "cell_type": "code",
   "execution_count": 391,
   "metadata": {},
   "outputs": [
    {
     "name": "stdout",
     "output_type": "stream",
     "text": "-5.833333333333333\n2.0\n5.1000000000000005\n-0.39999999999999974\n"
    }
   ],
   "source": [
    "y61_list = y61['mean'].tolist()\n",
    "y61_list\n",
    "\n",
    "y61q1 = y61_list[0:3]\n",
    "y61q2 = y61_list[3:6]\n",
    "y61q3 = y61_list[6:8]\n",
    "y61q4 = y61_list[9:12]\n",
    "y61q1_mean = sum(y61q1)/3\n",
    "y61q2_mean = sum(y61q2)/3\n",
    "y61q3_mean = sum(y61q3)/3\n",
    "y61q4_mean = sum(y61q4)/3\n",
    "print(y61q1_mean)\n",
    "print(y61q2_mean)\n",
    "print(y61q3_mean)\n",
    "print(y61q4_mean)"
   ]
  },
  {
   "cell_type": "code",
   "execution_count": 387,
   "metadata": {},
   "outputs": [
    {
     "data": {
      "text/html": "<div>\n<style scoped>\n    .dataframe tbody tr th:only-of-type {\n        vertical-align: middle;\n    }\n\n    .dataframe tbody tr th {\n        vertical-align: top;\n    }\n\n    .dataframe thead th {\n        text-align: right;\n    }\n</style>\n<table border=\"1\" class=\"dataframe\">\n  <thead>\n    <tr style=\"text-align: right;\">\n      <th></th>\n      <th>year</th>\n      <th>Q1_mean</th>\n      <th>Q2_mean</th>\n      <th>Q3_mean</th>\n      <th>Q4_mean</th>\n    </tr>\n  </thead>\n  <tbody>\n    <tr>\n      <th>0</th>\n      <td>1951</td>\n      <td>-3.333333</td>\n      <td>5.050000</td>\n      <td>8.150000</td>\n      <td>1.400000</td>\n    </tr>\n    <tr>\n      <th>1</th>\n      <td>1952</td>\n      <td>-1.066667</td>\n      <td>1.066667</td>\n      <td>7.133333</td>\n      <td>1.033333</td>\n    </tr>\n    <tr>\n      <th>2</th>\n      <td>1953</td>\n      <td>-6.233333</td>\n      <td>2.066667</td>\n      <td>8.966667</td>\n      <td>1.350000</td>\n    </tr>\n    <tr>\n      <th>3</th>\n      <td>1954</td>\n      <td>-7.433333</td>\n      <td>1.433333</td>\n      <td>9.366667</td>\n      <td>1.750000</td>\n    </tr>\n    <tr>\n      <th>4</th>\n      <td>1955</td>\n      <td>-3.966667</td>\n      <td>0.133333</td>\n      <td>5.200000</td>\n      <td>0.450000</td>\n    </tr>\n    <tr>\n      <th>5</th>\n      <td>1956</td>\n      <td>-6.700000</td>\n      <td>-0.233333</td>\n      <td>4.466667</td>\n      <td>-0.933333</td>\n    </tr>\n    <tr>\n      <th>6</th>\n      <td>1957</td>\n      <td>-3.333333</td>\n      <td>3.433333</td>\n      <td>6.233333</td>\n      <td>1.666667</td>\n    </tr>\n    <tr>\n      <th>7</th>\n      <td>1958</td>\n      <td>-4.533333</td>\n      <td>2.533333</td>\n      <td>5.533333</td>\n      <td>2.600000</td>\n    </tr>\n    <tr>\n      <th>8</th>\n      <td>1959</td>\n      <td>-2.933333</td>\n      <td>1.533333</td>\n      <td>5.500000</td>\n      <td>0.966667</td>\n    </tr>\n    <tr>\n      <th>9</th>\n      <td>1960</td>\n      <td>-3.033333</td>\n      <td>-0.800000</td>\n      <td>5.500000</td>\n      <td>0.500000</td>\n    </tr>\n  </tbody>\n</table>\n</div>",
      "text/plain": "   year   Q1_mean   Q2_mean   Q3_mean   Q4_mean\n0  1951 -3.333333  5.050000  8.150000  1.400000\n1  1952 -1.066667  1.066667  7.133333  1.033333\n2  1953 -6.233333  2.066667  8.966667  1.350000\n3  1954 -7.433333  1.433333  9.366667  1.750000\n4  1955 -3.966667  0.133333  5.200000  0.450000\n5  1956 -6.700000 -0.233333  4.466667 -0.933333\n6  1957 -3.333333  3.433333  6.233333  1.666667\n7  1958 -4.533333  2.533333  5.533333  2.600000\n8  1959 -2.933333  1.533333  5.500000  0.966667\n9  1960 -3.033333 -0.800000  5.500000  0.500000"
     },
     "execution_count": 387,
     "metadata": {},
     "output_type": "execute_result"
    }
   ],
   "source": [
    "weather = pd.DataFrame({'year':[1951,1952,1953,1954,1955,1956,1957,1958,1959,1960],\n",
    "  'Q1_mean':[y51q1_mean,y52q1_mean,y53q1_mean,y54q1_mean,y55q1_mean,y56q1_mean,y57q1_mean,y58q1_mean,y59q1_mean,y60q1_mean],\n",
    "  'Q2_mean':[y51q2_mean,y52q2_mean,y53q2_mean,y54q2_mean,y55q2_mean,y56q2_mean,y57q2_mean,y58q2_mean,y59q2_mean,y60q2_mean],\n",
    "  'Q3_mean':[y51q3_mean,y52q3_mean,y53q3_mean,y54q3_mean,y55q3_mean,y56q3_mean,y57q3_mean,y58q3_mean,y59q3_mean,y60q3_mean],\n",
    "  'Q4_mean':[y51q4_mean,y52q4_mean,y53q4_mean,y54q4_mean,y55q4_mean,y56q4_mean,y57q4_mean,y58q4_mean,y59q4_mean,y60q4_mean]})\n",
    "weather                        "
   ]
  },
  {
   "cell_type": "code",
   "execution_count": null,
   "metadata": {},
   "outputs": [],
   "source": []
  },
  {
   "cell_type": "code",
   "execution_count": null,
   "metadata": {},
   "outputs": [],
   "source": []
  },
  {
   "cell_type": "code",
   "execution_count": null,
   "metadata": {},
   "outputs": [],
   "source": []
  },
  {
   "cell_type": "code",
   "execution_count": null,
   "metadata": {},
   "outputs": [],
   "source": []
  },
  {
   "cell_type": "code",
   "execution_count": null,
   "metadata": {},
   "outputs": [],
   "source": []
  }
 ],
 "metadata": {
  "kernelspec": {
   "display_name": "Python 3.7.6 64-bit ('PythonData': conda)",
   "language": "python",
   "name": "python37664bitpythondatacondaf32c76a603324f80aa4cddb49579dbf2"
  },
  "language_info": {
   "codemirror_mode": {
    "name": "ipython",
    "version": 3
   },
   "file_extension": ".py",
   "mimetype": "text/x-python",
   "name": "python",
   "nbconvert_exporter": "python",
   "pygments_lexer": "ipython3",
   "version": "3.7.6-final"
  }
 },
 "nbformat": 4,
 "nbformat_minor": 1
}