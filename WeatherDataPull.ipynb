{
 "cells": [
  {
   "cell_type": "code",
   "execution_count": 16,
   "metadata": {},
   "outputs": [],
   "source": [
    "# Dependencies\n",
    "import pandas as pd\n",
    "\n",
    "import requests\n",
    "import json\n",
    "from pprint import pprint\n",
    "from config import MeteoStat_api_key as MeteoKey"
   ]
  },
  {
   "cell_type": "code",
   "execution_count": 131,
   "metadata": {},
   "outputs": [
    {
     "name": "stdout",
     "output_type": "stream",
     "text": [
      "{'data': [{'country': 'US',\n",
      "           'id': '72278',\n",
      "           'name': 'Phoenix Sky Harbor Airport'},\n",
      "          {'country': 'US', 'id': 'KA390', 'name': 'Phoenix / Bon'},\n",
      "          {'country': 'US', 'id': 'KDVT0', 'name': 'Phoenix / Wild Flower'},\n",
      "          {'country': 'US',\n",
      "           'id': 'KGYR0',\n",
      "           'name': 'Phoenix / Litchfield Junction'},\n",
      "          {'country': 'US',\n",
      "           'id': 'KLUF0',\n",
      "           'name': 'Phoenix / Glendale / Webb'}],\n",
      " 'meta': {'source': 'National Oceanic and Atmospheric Administration, '\n",
      "                    'Deutscher Wetterdienst'}}\n"
     ]
    }
   ],
   "source": [
    "#Find stations based on city name using meteostat api\n",
    "city_url = \"https://api.meteostat.net/v1/stations/search?q=phoenix\"\n",
    "city_station = requests.get(f\"{city_url}&key={MeteoKey}\").json()\n",
    "#city_station = requests.get(city_url).json()\n",
    "pprint(city_station)"
   ]
  },
  {
   "cell_type": "code",
   "execution_count": 151,
   "metadata": {},
   "outputs": [],
   "source": [
    "#Station IDs\n",
    "Boston_station = \"72509\"\n",
    "Miami_station = \"72202\"\n",
    "Columbus_station = \"72428\"\n",
    "Nashville_station = \"72327\"\n",
    "DesMoines_station = \"72546\"\n",
    "NewOrleans_station = \"72231\"\n",
    "Phoenix_station = \"72278\"\n",
    "SaltLakeCity_station = \"72572\"\n",
    "Boise_station = \"72681\"\n",
    "SF_station = \"72494\"\n",
    "SanDiego_station = \"72290\"\n",
    "StPaulIsland_station = \"70308\"\n",
    "\n",
    "#Parameters for pull\n",
    "start_a = \"1951-01\"\n",
    "start_b = \"1981-09\"\n",
    "start_c = \"2011-09\"\n",
    "end = \"2017-12\""
   ]
  },
  {
   "cell_type": "code",
   "execution_count": 147,
   "metadata": {},
   "outputs": [],
   "source": [
    "#Research meteostats api documentation for data pull\n",
    "#url = https://api.meteostat.net/{VERSION}/{PACKAGE}/{METHOD}?{PARAMETERS}\n",
    "#url = \"https://api.meteostat.net/v1/\"   #{PACKAGE}/{METHOD}?{PARAMETERS}\n",
    "#https://api.meteostat.net/v1/history/daily?station=10637&start=2017-01-01&end=2017-12-31&key=XXXXXXXX"
   ]
  },
  {
   "cell_type": "code",
   "execution_count": 154,
   "metadata": {},
   "outputs": [],
   "source": [
    "#Get Boston Weather Data from 1951 - 2017\n",
    "Boston_weather_url = \"https://api.meteostat.net/v1/history/monthly?\"\n",
    "Boston_weather_data_a = requests.get(f\"{Boston_weather_url}station={Boston_station}&start={start_a}&end={end}&key={MeteoKey}\").json()\n",
    "Boston_weather_data_b = requests.get(f\"{Boston_weather_url}station={Boston_station}&start={start_b}&end={end}&key={MeteoKey}\").json()\n",
    "Boston_weather_data_c = requests.get(f\"{Boston_weather_url}station={Boston_station}&start={start_c}&end={end}&key={MeteoKey}\").json()\n",
    "\n",
    "#Look at the data\n",
    "#pprint(Boston_weather_data_c)"
   ]
  },
  {
   "cell_type": "code",
   "execution_count": null,
   "metadata": {},
   "outputs": [],
   "source": [
    "#Put data into a pandas DataFrame\n"
   ]
  },
  {
   "cell_type": "code",
   "execution_count": 156,
   "metadata": {},
   "outputs": [],
   "source": [
    "#Get Miami Weather Data from 1951 - 2017\n",
    "Miami_weather_url = \"https://api.meteostat.net/v1/history/monthly?\"\n",
    "Miami_weather_data_a = requests.get(f\"{Miami_weather_url}station={Miami_station}&start={start_a}&end={end}&key={MeteoKey}\").json()\n",
    "Miami_weather_data_b = requests.get(f\"{Miami_weather_url}station={Miami_station}&start={start_b}&end={end}&key={MeteoKey}\").json()\n",
    "Miami_weather_data_c = requests.get(f\"{Miami_weather_url}station={Miami_station}&start={start_c}&end={end}&key={MeteoKey}\").json()\n",
    "\n",
    "#Look at the data\n",
    "#pprint(Miami_weather_data_c)"
   ]
  },
  {
   "cell_type": "code",
   "execution_count": null,
   "metadata": {},
   "outputs": [],
   "source": [
    "#Put data into a pandas DataFrame\n"
   ]
  },
  {
   "cell_type": "code",
   "execution_count": null,
   "metadata": {},
   "outputs": [],
   "source": [
    "#Get Columbus (NO CLEVELAND DATA?!?) Weather Data from 1951 - 2017\n",
    "Columbus_weather_url = \"https://api.meteostat.net/v1/history/monthly?\"\n",
    "Columbus_weather_data_a = requests.get(f\"{Columbus_weather_url}station={Columbus_station}&start={start_a}&end={end}&key={MeteoKey}\").json()\n",
    "Columbus_weather_data_b = requests.get(f\"{Columbus_weather_url}station={Columbus_station}&start={start_b}&end={end}&key={MeteoKey}\").json()\n",
    "Columbus_weather_data_c = requests.get(f\"{Columbus_weather_url}station={Columbus_station}&start={start_c}&end={end}&key={MeteoKey}\").json()\n",
    "\n",
    "#Look at the data\n",
    "#pprint(Columbus_weather_data_c)"
   ]
  },
  {
   "cell_type": "code",
   "execution_count": null,
   "metadata": {},
   "outputs": [],
   "source": [
    "#Put data into a pandas DataFrame\n"
   ]
  },
  {
   "cell_type": "code",
   "execution_count": 158,
   "metadata": {},
   "outputs": [],
   "source": [
    "#Get Nashville Weather Data from 1951 - 2017\n",
    "Nashville_weather_url = \"https://api.meteostat.net/v1/history/monthly?\"\n",
    "Nashville_weather_data_a = requests.get(f\"{Nashville_weather_url}station={Nashville_station}&start={start_a}&end={end}&key={MeteoKey}\").json()\n",
    "Nashville_weather_data_b = requests.get(f\"{Nashville_weather_url}station={Nashville_station}&start={start_b}&end={end}&key={MeteoKey}\").json()\n",
    "Nashville_weather_data_c = requests.get(f\"{Nashville_weather_url}station={Nashville_station}&start={start_c}&end={end}&key={MeteoKey}\").json()\n",
    "\n",
    "#Look at the data\n",
    "#pprint(Nashville_weather_data_c)"
   ]
  },
  {
   "cell_type": "code",
   "execution_count": null,
   "metadata": {},
   "outputs": [],
   "source": [
    "#Put data into a pandas DataFrame\n"
   ]
  },
  {
   "cell_type": "code",
   "execution_count": null,
   "metadata": {},
   "outputs": [],
   "source": [
    "#Get Des Moines Weather Data from 1951 - 2017\n",
    "DesMoines_weather_url = \"https://api.meteostat.net/v1/history/monthly?\"\n",
    "DesMoines_weather_data_a = requests.get(f\"{DesMoines_weather_url}station={DesMoines_station}&start={start_a}&end={end}&key={MeteoKey}\").json()\n",
    "DesMoines_weather_data_b = requests.get(f\"{DesMoines_weather_url}station={DesMoines_station}&start={start_b}&end={end}&key={MeteoKey}\").json()\n",
    "DesMoines_weather_data_c = requests.get(f\"{DesMoines_weather_url}station={DesMoines_station}&start={start_c}&end={end}&key={MeteoKey}\").json()\n",
    "\n",
    "#Look at the data\n",
    "#pprint(DesMoines_weather_data_c)"
   ]
  },
  {
   "cell_type": "code",
   "execution_count": null,
   "metadata": {},
   "outputs": [],
   "source": [
    "#Put data into a pandas DataFrame\n"
   ]
  },
  {
   "cell_type": "code",
   "execution_count": null,
   "metadata": {},
   "outputs": [],
   "source": [
    "#Get New Orleans Weather Data from 1951 - 2017\n",
    "NewOrleans_weather_url = \"https://api.meteostat.net/v1/history/monthly?\"\n",
    "NewOrleans_weather_data_a = requests.get(f\"{NewOrleans_weather_url}station={NewOrleans_station}&start={start_a}&end={end}&key={MeteoKey}\").json()\n",
    "NewOrleans_weather_data_b = requests.get(f\"{NewOrleans_weather_url}station={NewOrleans_station}&start={start_b}&end={end}&key={MeteoKey}\").json()\n",
    "NewOrleans_weather_data_c = requests.get(f\"{NewOrleans_weather_url}station={NewOrleans_station}&start={start_c}&end={end}&key={MeteoKey}\").json()\n",
    "\n",
    "#Look at the data\n",
    "#pprint(NewOrleans_weather_data_c)"
   ]
  },
  {
   "cell_type": "code",
   "execution_count": null,
   "metadata": {},
   "outputs": [],
   "source": [
    "#Put data into a pandas DataFrame\n"
   ]
  },
  {
   "cell_type": "code",
   "execution_count": null,
   "metadata": {},
   "outputs": [],
   "source": [
    "#Get San Francisco Weather Data from 1951 - 2017\n",
    "SF_weather_url = \"https://api.meteostat.net/v1/history/monthly?\"\n",
    "SF_weather_data_a = requests.get(f\"{SF_weather_url}station={SF_station}&start={start_a}&end={end}&key={MeteoKey}\").json()\n",
    "SF_weather_data_b = requests.get(f\"{SF_weather_url}station={SF_station}&start={start_b}&end={end}&key={MeteoKey}\").json()\n",
    "SF_weather_data_c = requests.get(f\"{SF_weather_url}station={SF_station}&start={start_c}&end={end}&key={MeteoKey}\").json()\n",
    "\n",
    "#Look at the data\n",
    "#pprint(SF_weather_data_c)"
   ]
  },
  {
   "cell_type": "code",
   "execution_count": null,
   "metadata": {},
   "outputs": [],
   "source": [
    "#Put data into a pandas DataFrame\n"
   ]
  },
  {
   "cell_type": "code",
   "execution_count": null,
   "metadata": {},
   "outputs": [],
   "source": [
    "#Get San Diego Weather Data from 1951 - 2017\n",
    "SanDiego_weather_url = \"https://api.meteostat.net/v1/history/monthly?\"\n",
    "SanDiego_weather_data_a = requests.get(f\"{SanDiego_weather_url}station={SanDiego_station}&start={start_a}&end={end}&key={MeteoKey}\").json()\n",
    "SanDiego_weather_data_b = requests.get(f\"{SanDiego_weather_url}station={SanDiego_station}&start={start_b}&end={end}&key={MeteoKey}\").json()\n",
    "SanDiego_weather_data_c = requests.get(f\"{SanDiego_weather_url}station={SanDiego_station}&start={start_c}&end={end}&key={MeteoKey}\").json()\n",
    "\n",
    "#Look at the data\n",
    "#pprint(SanDiego_weather_data_c)"
   ]
  },
  {
   "cell_type": "code",
   "execution_count": null,
   "metadata": {},
   "outputs": [],
   "source": [
    "#Put data into a pandas DataFrame\n"
   ]
  },
  {
   "cell_type": "code",
   "execution_count": null,
   "metadata": {},
   "outputs": [],
   "source": [
    "#Get St. Paul Island (Alaska) Weather Data from 1951 - 2017\n",
    "StPaulIsland_weather_url = \"https://api.meteostat.net/v1/history/monthly?\"\n",
    "StPaulIsland_weather_data_a = requests.get(f\"{StPaulIsland_weather_url}station={StPaulIsland_station}&start={start_a}&end={end}&key={MeteoKey}\").json()\n",
    "StPaulIsland_weather_data_b = requests.get(f\"{StPaulIsland_weather_url}station={StPaulIsland_station}&start={start_b}&end={end}&key={MeteoKey}\").json()\n",
    "StPaulIsland_weather_data_c = requests.get(f\"{StPaulIsland_weather_url}station={StPaulIsland_station}&start={start_c}&end={end}&key={MeteoKey}\").json()\n",
    "\n",
    "#Look at the data\n",
    "#pprint(StPaulIsland_weather_data_c)"
   ]
  },
  {
   "cell_type": "code",
   "execution_count": null,
   "metadata": {},
   "outputs": [],
   "source": [
    "#Put data into a pandas DataFrame\n"
   ]
  },
  {
   "cell_type": "code",
   "execution_count": null,
   "metadata": {},
   "outputs": [],
   "source": [
    "#Get Phoenix Weather Data from 1951 - 2017\n",
    "Phoenix_weather_url = \"https://api.meteostat.net/v1/history/monthly?\"\n",
    "Phoenix_weather_data_a = requests.get(f\"{Phoenix_weather_url}station={Phoenix_station}&start={start_a}&end={end}&key={MeteoKey}\").json()\n",
    "Phoenix_weather_data_b = requests.get(f\"{Phoenix_weather_url}station={Phoenix_station}&start={start_b}&end={end}&key={MeteoKey}\").json()\n",
    "Phoenix_weather_data_c = requests.get(f\"{Phoenix_weather_url}station={Phoenix_station}&start={start_c}&end={end}&key={MeteoKey}\").json()\n",
    "\n",
    "#Look at the data\n",
    "#pprint(Phoenix_weather_data_c)"
   ]
  },
  {
   "cell_type": "code",
   "execution_count": null,
   "metadata": {},
   "outputs": [],
   "source": [
    "#Put data into a pandas DataFrame\n"
   ]
  },
  {
   "cell_type": "code",
   "execution_count": null,
   "metadata": {},
   "outputs": [],
   "source": [
    "#Get Salt Lake City Weather Data from 1951 - 2017\n",
    "SaltLakeCity_weather_url = \"https://api.meteostat.net/v1/history/monthly?\"\n",
    "SaltLakeCity_weather_data_a = requests.get(f\"{SaltLakeCity_weather_url}station={SaltLakeCity_station}&start={start_a}&end={end}&key={MeteoKey}\").json()\n",
    "SaltLakeCity_weather_data_b = requests.get(f\"{SaltLakeCity_weather_url}station={SaltLakeCity_station}&start={start_b}&end={end}&key={MeteoKey}\").json()\n",
    "SaltLakeCity_weather_data_c = requests.get(f\"{SaltLakeCity_weather_url}station={SaltLakeCity_station}&start={start_c}&end={end}&key={MeteoKey}\").json()\n",
    "\n",
    "#Look at the data\n",
    "#pprint(SaltLakeCity_weather_data_c)"
   ]
  },
  {
   "cell_type": "code",
   "execution_count": null,
   "metadata": {},
   "outputs": [],
   "source": [
    "#Put data into a pandas DataFrame\n"
   ]
  },
  {
   "cell_type": "code",
   "execution_count": null,
   "metadata": {},
   "outputs": [],
   "source": [
    "#Get Boise Weather Data from 1951 - 2017\n",
    "Boise_weather_url = \"https://api.meteostat.net/v1/history/monthly?\"\n",
    "Boise_weather_data_a = requests.get(f\"{Boise_weather_url}station={Boise_station}&start={start_a}&end={end}&key={MeteoKey}\").json()\n",
    "Boise_weather_data_b = requests.get(f\"{Boise_weather_url}station={Boise_station}&start={start_b}&end={end}&key={MeteoKey}\").json()\n",
    "Boise_weather_data_c = requests.get(f\"{Boise_weather_url}station={Boise_station}&start={start_c}&end={end}&key={MeteoKey}\").json()\n",
    "#Look at the data\n",
    "#pprint(Boise_weather_data_c)"
   ]
  },
  {
   "cell_type": "code",
   "execution_count": null,
   "metadata": {},
   "outputs": [],
   "source": [
    "#Put data into a pandas DataFrame\n"
   ]
  },
  {
   "cell_type": "code",
   "execution_count": null,
   "metadata": {},
   "outputs": [],
   "source": []
  },
  {
   "cell_type": "code",
   "execution_count": null,
   "metadata": {},
   "outputs": [],
   "source": []
  },
  {
   "cell_type": "code",
   "execution_count": null,
   "metadata": {},
   "outputs": [],
   "source": [
    "#####################################\n",
    "# ALL CODE BELOW HERE FOR LATER!!!! #\n",
    "#####################################\n",
    "\n",
    "# Plot Heatmap\n",
    "fig = gmaps.figure()\n",
    "\n",
    "# Create heat layer\n",
    "heat_layer = gmaps.heatmap_layer(locations, weights=rating, \n",
    "                                 dissipating=False, max_intensity=10,\n",
    "                                 point_radius=1)\n",
    "\n",
    "\n",
    "# Add layer\n",
    "fig.add_layer(heat_layer)\n",
    "\n",
    "# Display figure\n",
    "fig"
   ]
  },
  {
   "cell_type": "markdown",
   "metadata": {},
   "source": [
    "![08-Airport_Heatmap.png](../Images/08-Airport_Heatmap.png)"
   ]
  },
  {
   "cell_type": "code",
   "execution_count": null,
   "metadata": {},
   "outputs": [],
   "source": [
    "# BONUS\n",
    "# Plost as a Hybrid map\n",
    "fig = gmaps.figure(map_type=\"HYBRID\")\n",
    "\n",
    "# Create heat layer\n",
    "heat_layer = gmaps.heatmap_layer(locations, weights=rating, \n",
    "                                 dissipating=False, max_intensity=10,\n",
    "                                 point_radius=1)\n",
    "\n",
    "fig.add_layer(heat_layer)\n",
    "fig"
   ]
  },
  {
   "cell_type": "markdown",
   "metadata": {},
   "source": [
    "![08-Hybrid_Map.png](../Images/08-Hybrid_Map.png)"
   ]
  },
  {
   "cell_type": "code",
   "execution_count": null,
   "metadata": {},
   "outputs": [],
   "source": [
    "# BONUS\n",
    "# Plot as a Terrain map\n",
    "fig = gmaps.figure(map_type=\"TERRAIN\")\n",
    "\n",
    "# Create heat layer\n",
    "heat_layer = gmaps.heatmap_layer(locations, weights=rating, \n",
    "                                 dissipating=False, max_intensity=10,\n",
    "                                 point_radius=1)\n",
    "\n",
    "fig.add_layer(heat_layer)\n",
    "fig"
   ]
  },
  {
   "cell_type": "markdown",
   "metadata": {},
   "source": [
    "![08-Terrain_Map.png](../Images/08-Terrain_Map.png)"
   ]
  },
  {
   "cell_type": "code",
   "execution_count": null,
   "metadata": {},
   "outputs": [],
   "source": []
  }
 ],
 "metadata": {
  "kernelspec": {
   "display_name": "Python 3.7.4 64-bit ('PythonData': conda)",
   "language": "python",
   "name": "python37464bitpythondataconda89d8a75d87334d9391e968c1e590e55a"
  },
  "language_info": {
   "codemirror_mode": {
    "name": "ipython",
    "version": 3
   },
   "file_extension": ".py",
   "mimetype": "text/x-python",
   "name": "python",
   "nbconvert_exporter": "python",
   "pygments_lexer": "ipython3",
   "version": "3.7.4"
  },
  "latex_envs": {
   "LaTeX_envs_menu_present": true,
   "autoclose": false,
   "autocomplete": true,
   "bibliofile": "biblio.bib",
   "cite_by": "apalike",
   "current_citInitial": 1,
   "eqLabelWithNumbers": true,
   "eqNumInitial": 1,
   "hotkeys": {
    "equation": "Ctrl-E",
    "itemize": "Ctrl-I"
   },
   "labels_anchors": false,
   "latex_user_defs": false,
   "report_style_numbering": false,
   "user_envs_cfg": false
  }
 },
 "nbformat": 4,
 "nbformat_minor": 2
}
